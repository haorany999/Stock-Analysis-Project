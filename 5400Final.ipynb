{
 "cells": [
  {
   "cell_type": "code",
   "execution_count": 2,
   "id": "6d68106f",
   "metadata": {},
   "outputs": [],
   "source": [
    "#pip install requests pymongo schedule tqdm psycopg2 pymongo psycopg2-binary\n"
   ]
  },
  {
   "cell_type": "code",
   "execution_count": 3,
   "id": "913999ea-d3bb-4024-a487-cb9dd9c9885d",
   "metadata": {},
   "outputs": [],
   "source": [
    "from datetime import datetime, timedelta\n",
    "import pandas as pd\n",
    "import requests\n",
    "import pymongo\n",
    "import schedule\n",
    "import time\n",
    "from tqdm import tqdm\n",
    "from collections import OrderedDict\n",
    "\n",
    "\n",
    "# Load stock tickers from a CSV file\n",
    "data = pd.read_csv(\"/Users/yanghaoran/Desktop/5400 - MANAGING DATA/5400 Final Project/group/sp500_companies.csv\")\n",
    "tickers = data['Symbol'].unique()\n",
    "ticker_list = tickers.tolist()"
   ]
  },
  {
   "cell_type": "code",
   "execution_count": 4,
   "id": "f946695a",
   "metadata": {},
   "outputs": [
    {
     "name": "stdout",
     "output_type": "stream",
     "text": [
      "/usr/local/bin/python3\n"
     ]
    }
   ],
   "source": [
    "import sys\n",
    "print(sys.executable)\n"
   ]
  },
  {
   "cell_type": "code",
   "execution_count": 5,
   "id": "f25547b3-4c01-4eb4-895f-c272d1c7869c",
   "metadata": {},
   "outputs": [
    {
     "data": {
      "text/plain": [
       "['MSFT',\n",
       " 'AAPL',\n",
       " 'NVDA',\n",
       " 'AMZN',\n",
       " 'GOOG',\n",
       " 'GOOGL',\n",
       " 'META',\n",
       " 'BRK-B',\n",
       " 'LLY',\n",
       " 'AVGO',\n",
       " 'V',\n",
       " 'JPM',\n",
       " 'TSLA',\n",
       " 'WMT',\n",
       " 'XOM',\n",
       " 'MA',\n",
       " 'UNH',\n",
       " 'JNJ',\n",
       " 'PG',\n",
       " 'HD',\n",
       " 'ORCL',\n",
       " 'MRK',\n",
       " 'COST',\n",
       " 'ABBV',\n",
       " 'CVX',\n",
       " 'CRM',\n",
       " 'BAC',\n",
       " 'AMD',\n",
       " 'NFLX',\n",
       " 'KO',\n",
       " 'PEP',\n",
       " 'LIN',\n",
       " 'TMO',\n",
       " 'ADBE',\n",
       " 'DIS',\n",
       " 'ACN',\n",
       " 'WFC',\n",
       " 'CSCO',\n",
       " 'MCD',\n",
       " 'ABT',\n",
       " 'QCOM',\n",
       " 'TMUS',\n",
       " 'CAT',\n",
       " 'DHR',\n",
       " 'INTU',\n",
       " 'VZ',\n",
       " 'IBM',\n",
       " 'AMAT',\n",
       " 'GE',\n",
       " 'INTC',\n",
       " 'CMCSA',\n",
       " 'NOW',\n",
       " 'UBER',\n",
       " 'AXP',\n",
       " 'COP',\n",
       " 'BX',\n",
       " 'TXN',\n",
       " 'MS',\n",
       " 'PFE',\n",
       " 'UNP',\n",
       " 'AMGN',\n",
       " 'PM',\n",
       " 'SPGI',\n",
       " 'ISRG',\n",
       " 'LOW',\n",
       " 'MU',\n",
       " 'RTX',\n",
       " 'NKE',\n",
       " 'SYK',\n",
       " 'GS',\n",
       " 'ETN',\n",
       " 'NEE',\n",
       " 'SCHW',\n",
       " 'HON',\n",
       " 'LRCX',\n",
       " 'UPS',\n",
       " 'T',\n",
       " 'PGR',\n",
       " 'BKNG',\n",
       " 'BLK',\n",
       " 'ELV',\n",
       " 'C',\n",
       " 'PLD',\n",
       " 'DE',\n",
       " 'TJX',\n",
       " 'MDT',\n",
       " 'BA',\n",
       " 'LMT',\n",
       " 'VRTX',\n",
       " 'BMY',\n",
       " 'REGN',\n",
       " 'CB',\n",
       " 'ABNB',\n",
       " 'CI',\n",
       " 'MMC',\n",
       " 'BSX',\n",
       " 'ADP',\n",
       " 'SBUX',\n",
       " 'ADI',\n",
       " 'CVS',\n",
       " 'ANET',\n",
       " 'FI',\n",
       " 'KLAC',\n",
       " 'MDLZ',\n",
       " 'AMT',\n",
       " 'SNPS',\n",
       " 'HCA',\n",
       " 'PANW',\n",
       " 'GILD',\n",
       " 'SHW',\n",
       " 'CDNS',\n",
       " 'WM',\n",
       " 'GD',\n",
       " 'CMG',\n",
       " 'TGT',\n",
       " 'MPC',\n",
       " 'ICE',\n",
       " 'EOG',\n",
       " 'SLB',\n",
       " 'ITW',\n",
       " 'SO',\n",
       " 'CME',\n",
       " 'ZTS',\n",
       " 'EQIX',\n",
       " 'DUK',\n",
       " 'MO',\n",
       " 'MAR',\n",
       " 'PSX',\n",
       " 'CL',\n",
       " 'PH',\n",
       " 'MCO',\n",
       " 'BDX',\n",
       " 'CSX',\n",
       " 'FCX',\n",
       " 'MCK',\n",
       " 'APH',\n",
       " 'PYPL',\n",
       " 'TT',\n",
       " 'TDG',\n",
       " 'CTAS',\n",
       " 'NOC',\n",
       " 'FDX',\n",
       " 'USB',\n",
       " 'ORLY',\n",
       " 'EMR',\n",
       " 'ECL',\n",
       " 'PCAR',\n",
       " 'PXD',\n",
       " 'AON',\n",
       " 'PNC',\n",
       " 'NXPI',\n",
       " 'OXY',\n",
       " 'CEG',\n",
       " 'VLO',\n",
       " 'RSG',\n",
       " 'MSI',\n",
       " 'MNST',\n",
       " 'ROP',\n",
       " 'NSC',\n",
       " 'SPG',\n",
       " 'EW',\n",
       " 'SMCI',\n",
       " 'COF',\n",
       " 'CPRT',\n",
       " 'FTNT',\n",
       " 'AZO',\n",
       " 'DXCM',\n",
       " 'HLT',\n",
       " 'AJG',\n",
       " 'MET',\n",
       " 'AIG',\n",
       " 'APD',\n",
       " 'TRV',\n",
       " 'F',\n",
       " 'DHI',\n",
       " 'ADSK',\n",
       " 'WELL',\n",
       " 'EL',\n",
       " 'GM',\n",
       " 'TFC',\n",
       " 'CARR',\n",
       " 'MMM',\n",
       " 'GWW',\n",
       " 'PSA',\n",
       " 'AFL',\n",
       " 'ODFL',\n",
       " 'STZ',\n",
       " 'COR',\n",
       " 'HES',\n",
       " 'NUE',\n",
       " 'WMB',\n",
       " 'URI',\n",
       " 'MCHP',\n",
       " 'ROST',\n",
       " 'OKE',\n",
       " 'LEN',\n",
       " 'NEM',\n",
       " 'O',\n",
       " 'ALL',\n",
       " 'DLR',\n",
       " 'KHC',\n",
       " 'LULU',\n",
       " 'TEL',\n",
       " 'SRE',\n",
       " 'JCI',\n",
       " 'AEP',\n",
       " 'PAYX',\n",
       " 'IQV',\n",
       " 'PCG',\n",
       " 'FAST',\n",
       " 'CCI',\n",
       " 'AMP',\n",
       " 'IDXX',\n",
       " 'MSCI',\n",
       " 'BK',\n",
       " 'KMB',\n",
       " 'DOW',\n",
       " 'A',\n",
       " 'AME',\n",
       " 'FIS',\n",
       " 'KDP',\n",
       " 'PRU',\n",
       " 'KR',\n",
       " 'CMI',\n",
       " 'KMI',\n",
       " 'D',\n",
       " 'GEHC',\n",
       " 'LVS',\n",
       " 'CTVA',\n",
       " 'LHX',\n",
       " 'OTIS',\n",
       " 'HSY',\n",
       " 'GIS',\n",
       " 'MRNA',\n",
       " 'CNC',\n",
       " 'KVUE',\n",
       " 'CSGP',\n",
       " 'CHTR',\n",
       " 'PWR',\n",
       " 'MLM',\n",
       " 'YUM',\n",
       " 'IR',\n",
       " 'SYY',\n",
       " 'HUM',\n",
       " 'EXC',\n",
       " 'HAL',\n",
       " 'IT',\n",
       " 'FANG',\n",
       " 'VMC',\n",
       " 'NDAQ',\n",
       " 'ACGL',\n",
       " 'CTSH',\n",
       " 'DG',\n",
       " 'RCL',\n",
       " 'EA',\n",
       " 'BKR',\n",
       " 'CDW',\n",
       " 'LYB',\n",
       " 'DVN',\n",
       " 'GEV',\n",
       " 'PEG',\n",
       " 'PPG',\n",
       " 'VRSK',\n",
       " 'ADM',\n",
       " 'GPN',\n",
       " 'EXR',\n",
       " 'ROK',\n",
       " 'MPWR',\n",
       " 'EFX',\n",
       " 'DD',\n",
       " 'DFS',\n",
       " 'XYL',\n",
       " 'ED',\n",
       " 'HIG',\n",
       " 'FICO',\n",
       " 'VICI',\n",
       " 'BIIB',\n",
       " 'ANSS',\n",
       " 'XEL',\n",
       " 'DAL',\n",
       " 'ON',\n",
       " 'FTV',\n",
       " 'CBRE',\n",
       " 'WST',\n",
       " 'DLTR',\n",
       " 'HPQ',\n",
       " 'GRMN',\n",
       " 'GLW',\n",
       " 'MTD',\n",
       " 'WTW',\n",
       " 'RMD',\n",
       " 'HWM',\n",
       " 'KEYS',\n",
       " 'TSCO',\n",
       " 'EIX',\n",
       " 'EBAY',\n",
       " 'RJF',\n",
       " 'CAH',\n",
       " 'WAB',\n",
       " 'ZBH',\n",
       " 'TROW',\n",
       " 'TRGP',\n",
       " 'TTWO',\n",
       " 'AVB',\n",
       " 'WEC',\n",
       " 'NVR',\n",
       " 'WY',\n",
       " 'BLDR',\n",
       " 'CHD',\n",
       " 'PHM',\n",
       " 'BF-B',\n",
       " 'BRO',\n",
       " 'DOV',\n",
       " 'FITB',\n",
       " 'LYV',\n",
       " 'BR',\n",
       " 'ALGN',\n",
       " 'WDC',\n",
       " 'EQR',\n",
       " 'HPE',\n",
       " 'AXON',\n",
       " 'STLD',\n",
       " 'MTB',\n",
       " 'AWK',\n",
       " 'SBAC',\n",
       " 'IRM',\n",
       " 'STT',\n",
       " 'DECK',\n",
       " 'DTE',\n",
       " 'HUBB',\n",
       " 'WRB',\n",
       " 'ETR',\n",
       " 'PTC',\n",
       " 'MOH',\n",
       " 'CPAY',\n",
       " 'ROL',\n",
       " 'FE',\n",
       " 'ARE',\n",
       " 'BAX',\n",
       " 'NTAP',\n",
       " 'VLTO',\n",
       " 'ULTA',\n",
       " 'IFF',\n",
       " 'INVH',\n",
       " 'CTRA',\n",
       " 'STE',\n",
       " 'TSN',\n",
       " 'BALL',\n",
       " 'GPC',\n",
       " 'ES',\n",
       " 'APTV',\n",
       " 'ILMN',\n",
       " 'WBD',\n",
       " 'MKC',\n",
       " 'JBHT',\n",
       " 'PPL',\n",
       " 'K',\n",
       " 'PFG',\n",
       " 'WAT',\n",
       " 'CCL',\n",
       " 'HBAN',\n",
       " 'TDY',\n",
       " 'COO',\n",
       " 'AEE',\n",
       " 'VRSN',\n",
       " 'CBOE',\n",
       " 'CINF',\n",
       " 'HRL',\n",
       " 'STX',\n",
       " 'FSLR',\n",
       " 'DRI',\n",
       " 'TXT',\n",
       " 'J',\n",
       " 'RF',\n",
       " 'HOLX',\n",
       " 'OMC',\n",
       " 'CE',\n",
       " 'IEX',\n",
       " 'CLX',\n",
       " 'EXPE',\n",
       " 'JBL',\n",
       " 'LH',\n",
       " 'CNP',\n",
       " 'NTRS',\n",
       " 'TYL',\n",
       " 'AVY',\n",
       " 'ATO',\n",
       " 'CMS',\n",
       " 'LDOS',\n",
       " 'VTR',\n",
       " 'BBY',\n",
       " 'DPZ',\n",
       " 'L',\n",
       " 'SWKS',\n",
       " 'LUV',\n",
       " 'MAS',\n",
       " 'PKG',\n",
       " 'SYF',\n",
       " 'MRO',\n",
       " 'EXPD',\n",
       " 'TER',\n",
       " 'FDS',\n",
       " 'WBA',\n",
       " 'EG',\n",
       " 'AKAM',\n",
       " 'EQT',\n",
       " 'CF',\n",
       " 'ESS',\n",
       " 'NRG',\n",
       " 'CFG',\n",
       " 'NDSN',\n",
       " 'SNA',\n",
       " 'BG',\n",
       " 'EPAM',\n",
       " 'POOL',\n",
       " 'ENPH',\n",
       " 'MAA',\n",
       " 'TRMB',\n",
       " 'ZBRA',\n",
       " 'CAG',\n",
       " 'MGM',\n",
       " 'NWSA',\n",
       " 'NWS',\n",
       " 'SWK',\n",
       " 'ALB',\n",
       " 'HST',\n",
       " 'DGX',\n",
       " 'TAP',\n",
       " 'BEN',\n",
       " 'UAL',\n",
       " 'FOX',\n",
       " 'FOXA',\n",
       " 'GEN',\n",
       " 'VTRS',\n",
       " 'KEY',\n",
       " 'PNR',\n",
       " 'LKQ',\n",
       " 'IP',\n",
       " 'AMCR',\n",
       " 'DOC',\n",
       " 'CRL',\n",
       " 'CPB',\n",
       " 'UDR',\n",
       " 'AOS',\n",
       " 'KMX',\n",
       " 'AES',\n",
       " 'RVTY',\n",
       " 'WRK',\n",
       " 'LNT',\n",
       " 'KIM',\n",
       " 'SJM',\n",
       " 'INCY',\n",
       " 'JKHY',\n",
       " 'NI',\n",
       " 'SOLV',\n",
       " 'WYNN',\n",
       " 'JNPR',\n",
       " 'EVRG',\n",
       " 'IPG',\n",
       " 'EMN',\n",
       " 'DVA',\n",
       " 'ALLE',\n",
       " 'UHS',\n",
       " 'PODD',\n",
       " 'LW',\n",
       " 'HII',\n",
       " 'FFIV',\n",
       " 'PAYC',\n",
       " 'QRVO',\n",
       " 'RL',\n",
       " 'REG',\n",
       " 'APA',\n",
       " 'MOS',\n",
       " 'TECH',\n",
       " 'CPT',\n",
       " 'CTLT',\n",
       " 'BBWI',\n",
       " 'TFX',\n",
       " 'GL',\n",
       " 'TPR',\n",
       " 'BXP',\n",
       " 'DAY',\n",
       " 'AIZ',\n",
       " 'HSIC',\n",
       " 'CZR',\n",
       " 'BIO',\n",
       " 'MTCH',\n",
       " 'AAL',\n",
       " 'MKTX',\n",
       " 'FRT',\n",
       " 'CHRW',\n",
       " 'PNW',\n",
       " 'PARA',\n",
       " 'GNRC',\n",
       " 'NCLH',\n",
       " 'BWA',\n",
       " 'RHI',\n",
       " 'HAS',\n",
       " 'MHK',\n",
       " 'ETSY',\n",
       " 'IVZ',\n",
       " 'FMC',\n",
       " 'CMA']"
      ]
     },
     "execution_count": 5,
     "metadata": {},
     "output_type": "execute_result"
    }
   ],
   "source": [
    "ticker_list"
   ]
  },
  {
   "cell_type": "code",
   "execution_count": 6,
   "id": "c88dcfa2-a077-4d52-ab9d-eed261ee81d9",
   "metadata": {},
   "outputs": [],
   "source": [
    "# MongoDB setup\n",
    "mongo_client = pymongo.MongoClient(\"mongodb://localhost:27017/\")\n",
    "mongo_db = mongo_client[\"5400Final\"]  # Database name"
   ]
  },
  {
   "cell_type": "code",
   "execution_count": 7,
   "id": "d2963228",
   "metadata": {},
   "outputs": [
    {
     "name": "stderr",
     "output_type": "stream",
     "text": [
      "Fetching data: 100%|██████████| 503/503 [05:08<00:00,  1.63it/s]\n"
     ]
    },
    {
     "name": "stdout",
     "output_type": "stream",
     "text": [
      "Scheduler started. Waiting to run at scheduled times...\n"
     ]
    },
    {
     "ename": "KeyboardInterrupt",
     "evalue": "",
     "output_type": "error",
     "traceback": [
      "\u001b[0;31m---------------------------------------------------------------------------\u001b[0m",
      "\u001b[0;31mKeyboardInterrupt\u001b[0m                         Traceback (most recent call last)",
      "Cell \u001b[0;32mIn[7], line 92\u001b[0m\n\u001b[1;32m     90\u001b[0m \u001b[38;5;28;01mwhile\u001b[39;00m \u001b[38;5;28;01mTrue\u001b[39;00m:\n\u001b[1;32m     91\u001b[0m     schedule\u001b[38;5;241m.\u001b[39mrun_pending()\n\u001b[0;32m---> 92\u001b[0m     \u001b[43mtime\u001b[49m\u001b[38;5;241;43m.\u001b[39;49m\u001b[43msleep\u001b[49m\u001b[43m(\u001b[49m\u001b[38;5;241;43m60\u001b[39;49m\u001b[43m)\u001b[49m  \u001b[38;5;66;03m# Check every minute\u001b[39;00m\n",
      "\u001b[0;31mKeyboardInterrupt\u001b[0m: "
     ]
    }
   ],
   "source": [
    "from datetime import datetime, timedelta\n",
    "import requests\n",
    "from tqdm import tqdm\n",
    "from collections import OrderedDict\n",
    "import time\n",
    "import schedule\n",
    "\n",
    "\n",
    "# API details\n",
    "url = \"https://yfinance-stock-market-data.p.rapidapi.com/price-customdate\"\n",
    "headers = {\n",
    "\t\"content-type\": \"application/x-www-form-urlencoded\",\n",
    "\t\"X-RapidAPI-Key\": \"adc30321e3msh9519a803e296a70p1150a2jsne7e28e57f358\",\n",
    "\t\"X-RapidAPI-Host\": \"yfinance-stock-market-data.p.rapidapi.com\"\n",
    "}\n",
    "\n",
    "# Rate Limiting\n",
    "request_count = 0\n",
    "DAILY_LIMIT = 1000\n",
    "\n",
    "def reset_request_count():\n",
    "    global request_count\n",
    "    request_count = 0\n",
    "\n",
    "def update_daily():\n",
    "    global request_count\n",
    "    for ticker in tqdm(ticker_list, desc=\"Fetching data\"):\n",
    "        if request_count >= DAILY_LIMIT:\n",
    "            print(\"Daily request limit reached. Waiting until reset...\")\n",
    "            break\n",
    "        # MongoDB collection for this ticker\n",
    "        mongo_collection = mongo_db[ticker]\n",
    "\n",
    "        # Adjust the date range for the last 30 days data, including today\n",
    "        today = datetime.now()\n",
    "        start_date = today - timedelta(days=30)  # 30 days before today\n",
    "        end_date = today  # Or use today - timedelta(days=1) for yesterday\n",
    "\n",
    "        # Format the dates\n",
    "        start_date_str = start_date.strftime(\"%Y-%m-%d\")\n",
    "        end_date_str = end_date.strftime(\"%Y-%m-%d\")\n",
    "\n",
    "        # API request payload\n",
    "        payload = f\"symbol={ticker}&end={end_date_str}&start={start_date_str}\"\n",
    "\n",
    "        # Fetch data from the API\n",
    "        response = requests.request(\"POST\", url, data=payload, headers=headers)\n",
    "        request_count += 1\n",
    "        \n",
    "        if response.status_code == 200:\n",
    "            data = response.json().get('data')\n",
    "            if not data:\n",
    "                continue  # Skip if no data is returned\n",
    "            for day_data in data:  # Process each day's data\n",
    "                # Prepare the document to insert/update\n",
    "                document = OrderedDict([\n",
    "                    (\"date\", datetime.fromtimestamp(day_data['Date'] / 1000).strftime('%m-%d-%Y')),\n",
    "                    (\"date_utc\", day_data['Date']),\n",
    "                    (\"open\", day_data['Open']),\n",
    "                    (\"high\", day_data['High']),\n",
    "                    (\"low\", day_data['Low']),\n",
    "                    (\"close\", day_data['Close']),\n",
    "                    (\"volume\", day_data['Volume']),\n",
    "                    (\"adjclose\", day_data['Adj Close'])\n",
    "                ])\n",
    "\n",
    "                # Upsert the document in MongoDB\n",
    "                mongo_collection.update_one(\n",
    "                    {\"date\": document[\"date\"]},\n",
    "                    {\"$set\": document},\n",
    "                    upsert=True\n",
    "                )\n",
    "        else:\n",
    "            print(f\"Error retrieving data for {ticker}: {response.status_code}\")\n",
    "        \n",
    "        # Sleep to adhere to rate limit\n",
    "        time.sleep(0.2)  # Adjust as per the API's rate limiting policy\n",
    "\n",
    "# Schedule the request counter reset at midnight\n",
    "schedule.every().day.at(\"00:00\").do(reset_request_count)\n",
    "\n",
    "# Schedule to run at 16:00 every day\n",
    "schedule.every().day.at(\"16:00\").do(update_daily)\n",
    "\n",
    "# Initial run to populate the database\n",
    "update_daily()\n",
    "\n",
    "# Keep the script running to adhere to the schedule\n",
    "print(\"Scheduler started. Waiting to run at scheduled times...\")\n",
    "while True:\n",
    "    schedule.run_pending()\n",
    "    time.sleep(60)  # Check every minute\n",
    "\n",
    "        \n"
   ]
  },
  {
   "cell_type": "code",
   "execution_count": 7,
   "id": "050af95f-7624-42f8-a3f9-26004ec358c4",
   "metadata": {},
   "outputs": [],
   "source": [
    "import psycopg2\n",
    "import pymongo"
   ]
  },
  {
   "cell_type": "code",
   "execution_count": 8,
   "id": "46d1ecbb-a956-45f0-8bff-b1f1a8e5e0bf",
   "metadata": {},
   "outputs": [],
   "source": [
    "# MongoDB setup\n",
    "mongo_client = pymongo.MongoClient(\"mongodb://localhost:27017/\")\n",
    "mongo_db = mongo_client[\"5400Final\"]  # Database name"
   ]
  },
  {
   "cell_type": "code",
   "execution_count": 9,
   "id": "4a0f56c2",
   "metadata": {},
   "outputs": [
    {
     "name": "stdout",
     "output_type": "stream",
     "text": [
      "Database version: PostgreSQL 16.1 (Debian 16.1-1.pgdg120+1) on aarch64-unknown-linux-gnu, compiled by gcc (Debian 12.2.0-14) 12.2.0, 64-bit\n"
     ]
    }
   ],
   "source": [
    "# Create connection to PostgreSQL\n",
    "pg_conn = psycopg2.connect(\n",
    "    host=\"localhost\",\n",
    "    database=\"5400Final\",\n",
    "    user=\"postgres\",\n",
    "    password=\"123\"\n",
    ")\n",
    "\n",
    "cur = pg_conn.cursor()\n",
    "\n",
    "cur.execute(\"SELECT version();\")\n",
    "\n",
    "db_version = cur.fetchone()\n",
    "\n",
    "print(f\"Database version: {db_version[0]}\")\n",
    "\n"
   ]
  },
  {
   "cell_type": "code",
   "execution_count": 10,
   "id": "d2a5f937-d644-4924-b973-c7d347259062",
   "metadata": {},
   "outputs": [],
   "source": [
    "# Assuming mongo_db and pg_conn are already defined and connected to your MongoDB and PostgreSQL.\n",
    "\n",
    "for ticker in ticker_list:\n",
    "    pg_data = []  # Reset the pg_data for each ticker\n",
    "\n",
    "    # Retrieve data from MongoDB collection\n",
    "    mongo_collection = mongo_db[ticker]\n",
    "    mongo_data = list(mongo_collection.find())\n",
    "\n",
    "    # Transform data to the desired format\n",
    "    for row in mongo_data[1:]:  # Assuming the first row is headers or irrelevant\n",
    "        pg_row = {\n",
    "            \"date\": row[\"date\"],\n",
    "            \"open\": row[\"open\"],\n",
    "            \"high\": row[\"high\"],\n",
    "            \"low\": row[\"low\"],\n",
    "            \"close\": row[\"close\"],\n",
    "            \"volume\": row[\"volume\"],\n",
    "            \"adj_close\": row.get(\"adjclose\", row.get(\"adj_close\"))  # Handle potential key variations\n",
    "        }\n",
    "        pg_data.append(pg_row)\n",
    "\n",
    "    # Define table_name for PostgreSQL using the current ticker, and quote it if it's a reserved word\n",
    "    table_name = ticker.upper().replace(\"-\", \"_\")\n",
    "    # Check for reserved SQL keywords 'ALL' and 'ON'\n",
    "    if table_name in ['ALL', 'ON']:\n",
    "        quoted_table_name = f'\"{table_name.lower()}\"'\n",
    "    else:\n",
    "        quoted_table_name = table_name\n",
    "\n",
    "    with pg_conn.cursor() as pg_cur:\n",
    "        # Create the table if it doesn't exist\n",
    "        pg_cur.execute(f\"\"\"\n",
    "            CREATE TABLE IF NOT EXISTS {quoted_table_name} (\n",
    "                date DATE PRIMARY KEY,\n",
    "                open FLOAT,\n",
    "                high FLOAT,\n",
    "                low FLOAT,\n",
    "                close FLOAT,\n",
    "                volume BIGINT,\n",
    "                adj_close FLOAT\n",
    "            )\n",
    "        \"\"\")\n",
    "\n",
    "        # Prepare the INSERT INTO statement with placeholders for the actual values\n",
    "        insert_statement = f\"\"\"\n",
    "            INSERT INTO {quoted_table_name} (\n",
    "                date, open, high, low, close, volume, adj_close\n",
    "            ) VALUES (\n",
    "                %s, %s, %s, %s, %s, %s, %s\n",
    "            ) ON CONFLICT (date) DO UPDATE SET\n",
    "                open = EXCLUDED.open,\n",
    "                high = EXCLUDED.high,\n",
    "                low = EXCLUDED.low,\n",
    "                close = EXCLUDED.close,\n",
    "                volume = EXCLUDED.volume,\n",
    "                adj_close = EXCLUDED.adj_close\n",
    "        \"\"\"\n",
    "\n",
    "        # Execute the insert statement for each row in pg_data\n",
    "        for row in pg_data:\n",
    "            pg_cur.execute(insert_statement, (\n",
    "                row['date'],\n",
    "                row['open'],\n",
    "                row['high'],\n",
    "                row['low'],\n",
    "                row['close'],\n",
    "                row['volume'],\n",
    "                row['adj_close']\n",
    "            ))\n",
    "\n",
    "        # Commit the transaction to make sure changes are saved\n",
    "        pg_conn.commit()\n"
   ]
  },
  {
   "cell_type": "code",
   "execution_count": null,
   "id": "e9907bd4",
   "metadata": {},
   "outputs": [
    {
     "name": "stdout",
     "output_type": "stream",
     "text": [
      "Requirement already satisfied: pandas in /Library/Frameworks/Python.framework/Versions/3.11/lib/python3.11/site-packages (2.2.0)\n",
      "Requirement already satisfied: numpy in /Library/Frameworks/Python.framework/Versions/3.11/lib/python3.11/site-packages (1.26.3)\n",
      "Collecting matplotlib\n",
      "  Downloading matplotlib-3.8.4-cp311-cp311-macosx_10_12_x86_64.whl.metadata (5.8 kB)\n",
      "Collecting seaborn\n",
      "  Downloading seaborn-0.13.2-py3-none-any.whl.metadata (5.4 kB)\n",
      "Collecting psycopg2\n",
      "  Using cached psycopg2-2.9.9.tar.gz (384 kB)\n",
      "  Installing build dependencies ... \u001b[?25ldone\n",
      "\u001b[?25h  Getting requirements to build wheel ... \u001b[?25lerror\n",
      "  \u001b[1;31merror\u001b[0m: \u001b[1msubprocess-exited-with-error\u001b[0m\n",
      "  \n",
      "  \u001b[31m×\u001b[0m \u001b[32mGetting requirements to build wheel\u001b[0m did not run successfully.\n",
      "  \u001b[31m│\u001b[0m exit code: \u001b[1;36m1\u001b[0m\n",
      "  \u001b[31m╰─>\u001b[0m \u001b[31m[21 lines of output]\u001b[0m\n",
      "  \u001b[31m   \u001b[0m running egg_info\n",
      "  \u001b[31m   \u001b[0m writing psycopg2.egg-info/PKG-INFO\n",
      "  \u001b[31m   \u001b[0m writing dependency_links to psycopg2.egg-info/dependency_links.txt\n",
      "  \u001b[31m   \u001b[0m writing top-level names to psycopg2.egg-info/top_level.txt\n",
      "  \u001b[31m   \u001b[0m \n",
      "  \u001b[31m   \u001b[0m Error: pg_config executable not found.\n",
      "  \u001b[31m   \u001b[0m \n",
      "  \u001b[31m   \u001b[0m pg_config is required to build psycopg2 from source.  Please add the directory\n",
      "  \u001b[31m   \u001b[0m containing pg_config to the $PATH or specify the full executable path with the\n",
      "  \u001b[31m   \u001b[0m option:\n",
      "  \u001b[31m   \u001b[0m \n",
      "  \u001b[31m   \u001b[0m     python setup.py build_ext --pg-config /path/to/pg_config build ...\n",
      "  \u001b[31m   \u001b[0m \n",
      "  \u001b[31m   \u001b[0m or with the pg_config option in 'setup.cfg'.\n",
      "  \u001b[31m   \u001b[0m \n",
      "  \u001b[31m   \u001b[0m If you prefer to avoid building psycopg2 from source, please install the PyPI\n",
      "  \u001b[31m   \u001b[0m 'psycopg2-binary' package instead.\n",
      "  \u001b[31m   \u001b[0m \n",
      "  \u001b[31m   \u001b[0m For further information please check the 'doc/src/install.rst' file (also at\n",
      "  \u001b[31m   \u001b[0m <https://www.psycopg.org/docs/install.html>).\n",
      "  \u001b[31m   \u001b[0m \n",
      "  \u001b[31m   \u001b[0m \u001b[31m[end of output]\u001b[0m\n",
      "  \n",
      "  \u001b[1;35mnote\u001b[0m: This error originates from a subprocess, and is likely not a problem with pip.\n",
      "\u001b[?25h\u001b[1;31merror\u001b[0m: \u001b[1msubprocess-exited-with-error\u001b[0m\n",
      "\n",
      "\u001b[31m×\u001b[0m \u001b[32mGetting requirements to build wheel\u001b[0m did not run successfully.\n",
      "\u001b[31m│\u001b[0m exit code: \u001b[1;36m1\u001b[0m\n",
      "\u001b[31m╰─>\u001b[0m See above for output.\n",
      "\n",
      "\u001b[1;35mnote\u001b[0m: This error originates from a subprocess, and is likely not a problem with pip.\n"
     ]
    }
   ],
   "source": [
    "#!pip install pandas numpy matplotlib seaborn psycopg2"
   ]
  },
  {
   "cell_type": "code",
   "execution_count": null,
   "id": "8a3d14ba",
   "metadata": {},
   "outputs": [
    {
     "name": "stdout",
     "output_type": "stream",
     "text": [
      "Collecting matplotlib\n",
      "  Using cached matplotlib-3.8.4-cp311-cp311-macosx_10_12_x86_64.whl.metadata (5.8 kB)\n",
      "Collecting contourpy>=1.0.1 (from matplotlib)\n",
      "  Downloading contourpy-1.2.1-cp311-cp311-macosx_10_9_x86_64.whl.metadata (5.8 kB)\n",
      "Collecting cycler>=0.10 (from matplotlib)\n",
      "  Downloading cycler-0.12.1-py3-none-any.whl.metadata (3.8 kB)\n",
      "Collecting fonttools>=4.22.0 (from matplotlib)\n",
      "  Downloading fonttools-4.51.0-cp311-cp311-macosx_10_9_x86_64.whl.metadata (159 kB)\n",
      "\u001b[2K     \u001b[90m━━━━━━━━━━━━━━━━━━━━━━━━━━━━━━━━━━━━━━━\u001b[0m \u001b[32m159.5/159.5 kB\u001b[0m \u001b[31m3.5 MB/s\u001b[0m eta \u001b[36m0:00:00\u001b[0ma \u001b[36m0:00:01\u001b[0m\n",
      "\u001b[?25hCollecting kiwisolver>=1.3.1 (from matplotlib)\n",
      "  Downloading kiwisolver-1.4.5-cp311-cp311-macosx_10_9_x86_64.whl.metadata (6.4 kB)\n",
      "Requirement already satisfied: numpy>=1.21 in /Library/Frameworks/Python.framework/Versions/3.11/lib/python3.11/site-packages (from matplotlib) (1.26.3)\n",
      "Requirement already satisfied: packaging>=20.0 in /Library/Frameworks/Python.framework/Versions/3.11/lib/python3.11/site-packages (from matplotlib) (23.2)\n",
      "Collecting pillow>=8 (from matplotlib)\n",
      "  Downloading pillow-10.3.0-cp311-cp311-macosx_10_10_x86_64.whl.metadata (9.2 kB)\n",
      "Collecting pyparsing>=2.3.1 (from matplotlib)\n",
      "  Downloading pyparsing-3.1.2-py3-none-any.whl.metadata (5.1 kB)\n",
      "Requirement already satisfied: python-dateutil>=2.7 in /Library/Frameworks/Python.framework/Versions/3.11/lib/python3.11/site-packages (from matplotlib) (2.8.2)\n",
      "Requirement already satisfied: six>=1.5 in /Library/Frameworks/Python.framework/Versions/3.11/lib/python3.11/site-packages (from python-dateutil>=2.7->matplotlib) (1.16.0)\n",
      "Downloading matplotlib-3.8.4-cp311-cp311-macosx_10_12_x86_64.whl (7.6 MB)\n",
      "\u001b[2K   \u001b[90m━━━━━━━━━━━━━━━━━━━━━━━━━━━━━━━━━━━━━━━━\u001b[0m \u001b[32m7.6/7.6 MB\u001b[0m \u001b[31m10.4 MB/s\u001b[0m eta \u001b[36m0:00:00\u001b[0m00:01\u001b[0m00:01\u001b[0m\n",
      "\u001b[?25hDownloading contourpy-1.2.1-cp311-cp311-macosx_10_9_x86_64.whl (262 kB)\n",
      "\u001b[2K   \u001b[90m━━━━━━━━━━━━━━━━━━━━━━━━━━━━━━━━━━━━━━━━\u001b[0m \u001b[32m262.1/262.1 kB\u001b[0m \u001b[31m5.1 MB/s\u001b[0m eta \u001b[36m0:00:00\u001b[0m:00:01\u001b[0m\n",
      "\u001b[?25hDownloading cycler-0.12.1-py3-none-any.whl (8.3 kB)\n",
      "Downloading fonttools-4.51.0-cp311-cp311-macosx_10_9_x86_64.whl (2.3 MB)\n",
      "\u001b[2K   \u001b[90m━━━━━━━━━━━━━━━━━━━━━━━━━━━━━━━━━━━━━━━━\u001b[0m \u001b[32m2.3/2.3 MB\u001b[0m \u001b[31m6.9 MB/s\u001b[0m eta \u001b[36m0:00:00\u001b[0m00:01\u001b[0m00:01\u001b[0mm\n",
      "\u001b[?25hDownloading kiwisolver-1.4.5-cp311-cp311-macosx_10_9_x86_64.whl (68 kB)\n",
      "\u001b[2K   \u001b[90m━━━━━━━━━━━━━━━━━━━━━━━━━━━━━━━━━━━━━━━━\u001b[0m \u001b[32m68.2/68.2 kB\u001b[0m \u001b[31m908.9 kB/s\u001b[0m eta \u001b[36m0:00:00\u001b[0ma \u001b[36m0:00:01\u001b[0m\n",
      "\u001b[?25hDownloading pillow-10.3.0-cp311-cp311-macosx_10_10_x86_64.whl (3.5 MB)\n",
      "\u001b[2K   \u001b[90m━━━━━━━━━━━━━━━━━━━━━━━━━━━━━━━━━━━━━━━━\u001b[0m \u001b[32m3.5/3.5 MB\u001b[0m \u001b[31m8.3 MB/s\u001b[0m eta \u001b[36m0:00:00\u001b[0m00:01\u001b[0m00:01\u001b[0mm\n",
      "\u001b[?25hDownloading pyparsing-3.1.2-py3-none-any.whl (103 kB)\n",
      "\u001b[2K   \u001b[90m━━━━━━━━━━━━━━━━━━━━━━━━━━━━━━━━━━━━━━━\u001b[0m \u001b[32m103.2/103.2 kB\u001b[0m \u001b[31m621.1 kB/s\u001b[0m eta \u001b[36m0:00:00\u001b[0m00:01\u001b[0m:01\u001b[0m\n",
      "\u001b[?25hInstalling collected packages: pyparsing, pillow, kiwisolver, fonttools, cycler, contourpy, matplotlib\n",
      "Successfully installed contourpy-1.2.1 cycler-0.12.1 fonttools-4.51.0 kiwisolver-1.4.5 matplotlib-3.8.4 pillow-10.3.0 pyparsing-3.1.2\n"
     ]
    }
   ],
   "source": [
    "#!pip install matplotlib\n"
   ]
  },
  {
   "cell_type": "code",
   "execution_count": null,
   "id": "79149280",
   "metadata": {},
   "outputs": [
    {
     "name": "stdout",
     "output_type": "stream",
     "text": [
      "Collecting seaborn\n",
      "  Using cached seaborn-0.13.2-py3-none-any.whl.metadata (5.4 kB)\n",
      "Requirement already satisfied: numpy!=1.24.0,>=1.20 in /Library/Frameworks/Python.framework/Versions/3.11/lib/python3.11/site-packages (from seaborn) (1.26.3)\n",
      "Requirement already satisfied: pandas>=1.2 in /Library/Frameworks/Python.framework/Versions/3.11/lib/python3.11/site-packages (from seaborn) (2.2.0)\n",
      "Requirement already satisfied: matplotlib!=3.6.1,>=3.4 in /Library/Frameworks/Python.framework/Versions/3.11/lib/python3.11/site-packages (from seaborn) (3.8.4)\n",
      "Requirement already satisfied: contourpy>=1.0.1 in /Library/Frameworks/Python.framework/Versions/3.11/lib/python3.11/site-packages (from matplotlib!=3.6.1,>=3.4->seaborn) (1.2.1)\n",
      "Requirement already satisfied: cycler>=0.10 in /Library/Frameworks/Python.framework/Versions/3.11/lib/python3.11/site-packages (from matplotlib!=3.6.1,>=3.4->seaborn) (0.12.1)\n",
      "Requirement already satisfied: fonttools>=4.22.0 in /Library/Frameworks/Python.framework/Versions/3.11/lib/python3.11/site-packages (from matplotlib!=3.6.1,>=3.4->seaborn) (4.51.0)\n",
      "Requirement already satisfied: kiwisolver>=1.3.1 in /Library/Frameworks/Python.framework/Versions/3.11/lib/python3.11/site-packages (from matplotlib!=3.6.1,>=3.4->seaborn) (1.4.5)\n",
      "Requirement already satisfied: packaging>=20.0 in /Library/Frameworks/Python.framework/Versions/3.11/lib/python3.11/site-packages (from matplotlib!=3.6.1,>=3.4->seaborn) (23.2)\n",
      "Requirement already satisfied: pillow>=8 in /Library/Frameworks/Python.framework/Versions/3.11/lib/python3.11/site-packages (from matplotlib!=3.6.1,>=3.4->seaborn) (10.3.0)\n",
      "Requirement already satisfied: pyparsing>=2.3.1 in /Library/Frameworks/Python.framework/Versions/3.11/lib/python3.11/site-packages (from matplotlib!=3.6.1,>=3.4->seaborn) (3.1.2)\n",
      "Requirement already satisfied: python-dateutil>=2.7 in /Library/Frameworks/Python.framework/Versions/3.11/lib/python3.11/site-packages (from matplotlib!=3.6.1,>=3.4->seaborn) (2.8.2)\n",
      "Requirement already satisfied: pytz>=2020.1 in /Library/Frameworks/Python.framework/Versions/3.11/lib/python3.11/site-packages (from pandas>=1.2->seaborn) (2023.4)\n",
      "Requirement already satisfied: tzdata>=2022.7 in /Library/Frameworks/Python.framework/Versions/3.11/lib/python3.11/site-packages (from pandas>=1.2->seaborn) (2023.4)\n",
      "Requirement already satisfied: six>=1.5 in /Library/Frameworks/Python.framework/Versions/3.11/lib/python3.11/site-packages (from python-dateutil>=2.7->matplotlib!=3.6.1,>=3.4->seaborn) (1.16.0)\n",
      "Downloading seaborn-0.13.2-py3-none-any.whl (294 kB)\n",
      "\u001b[2K   \u001b[90m━━━━━━━━━━━━━━━━━━━━━━━━━━━━━━━━━━━━━━━━\u001b[0m \u001b[32m294.9/294.9 kB\u001b[0m \u001b[31m4.5 MB/s\u001b[0m eta \u001b[36m0:00:00\u001b[0ma \u001b[36m0:00:01\u001b[0m\n",
      "\u001b[?25hInstalling collected packages: seaborn\n",
      "Successfully installed seaborn-0.13.2\n"
     ]
    }
   ],
   "source": [
    "#!pip install seaborn"
   ]
  },
  {
   "cell_type": "code",
   "execution_count": 13,
   "id": "fa072c91",
   "metadata": {},
   "outputs": [],
   "source": [
    "import pandas as pd\n",
    "import numpy as np\n",
    "import matplotlib.pyplot as plt\n",
    "import seaborn as sns\n",
    "import psycopg2"
   ]
  },
  {
   "cell_type": "code",
   "execution_count": 11,
   "id": "0e25ad20",
   "metadata": {},
   "outputs": [],
   "source": [
    "# Connect to PostgreSQL database\n",
    "pg_conn = psycopg2.connect(\n",
    "    host=\"localhost\",\n",
    "    database=\"5400Final\",\n",
    "    user=\"postgres\",\n",
    "    password=\"123\"\n",
    ")"
   ]
  },
  {
   "cell_type": "code",
   "execution_count": 17,
   "id": "4e8096d9",
   "metadata": {},
   "outputs": [
    {
     "name": "stdout",
     "output_type": "stream",
     "text": [
      "Requirement already satisfied: plotly in /Library/Frameworks/Python.framework/Versions/3.12/lib/python3.12/site-packages (5.21.0)\n",
      "Requirement already satisfied: tenacity>=6.2.0 in /Library/Frameworks/Python.framework/Versions/3.12/lib/python3.12/site-packages (from plotly) (8.2.3)\n",
      "Requirement already satisfied: packaging in /Users/yanghaoran/Library/Python/3.12/lib/python/site-packages (from plotly) (24.0)\n",
      "\n",
      "\u001b[1m[\u001b[0m\u001b[34;49mnotice\u001b[0m\u001b[1;39;49m]\u001b[0m\u001b[39;49m A new release of pip is available: \u001b[0m\u001b[31;49m23.2.1\u001b[0m\u001b[39;49m -> \u001b[0m\u001b[32;49m24.0\u001b[0m\n",
      "\u001b[1m[\u001b[0m\u001b[34;49mnotice\u001b[0m\u001b[1;39;49m]\u001b[0m\u001b[39;49m To update, run: \u001b[0m\u001b[32;49mpython3 -m pip install --upgrade pip\u001b[0m\n",
      "Note: you may need to restart the kernel to use updated packages.\n"
     ]
    }
   ],
   "source": [
    "pip install plotly\n"
   ]
  },
  {
   "cell_type": "code",
   "execution_count": 14,
   "id": "6f5def9f",
   "metadata": {},
   "outputs": [
    {
     "data": {
      "image/png": "[encoded data removed]",
      "text/plain": [
       "<Figure size 1500x1000 with 1 Axes>"
      ]
     },
     "metadata": {},
     "output_type": "display_data"
    }
   ],
   "source": [
    "\n",
    "# Define function to retrieve data for a given ticker\n",
    "def get_data(ticker):\n",
    "    with pg_conn.cursor() as pg_cur:\n",
    "        pg_cur.execute(\"SELECT * FROM {table_name} ORDER BY date ASC\".format(table_name=ticker))\n",
    "        rows = pg_cur.fetchall()\n",
    "    return pd.DataFrame(rows, columns=['date', 'open', 'high', 'low', 'close', 'volume', 'adj_close'])\n",
    "\n",
    "\n",
    "# Define function to calculate daily percentage change in stock prices\n",
    "def daily_pct_change(df):\n",
    "    return df['adj_close'].pct_change()\n",
    "\n",
    "# Define function to plot the daily percentage change in stock prices\n",
    "def plot_pct_change(df, ticker):\n",
    "    plt.figure(figsize=(15,10))\n",
    "    sns.lineplot(x='date', y='pct_change', data=df)\n",
    "    plt.title(\"Daily Percentage Change in {} Stock Prices\".format(ticker))\n",
    "    plt.xlabel(\"Date\")\n",
    "    plt.ylabel(\"Percentage Change\")\n",
    "    plt.show()\n",
    "\n",
    "# Example usage\n",
    "df = get_data('AAPL') \n",
    "df['pct_change'] = daily_pct_change(df)\n",
    "plot_pct_change(df, 'AAPL')"
   ]
  },
  {
   "cell_type": "code",
   "execution_count": 21,
   "id": "90492e1a",
   "metadata": {},
   "outputs": [
    {
     "name": "stdout",
     "output_type": "stream",
     "text": [
      "Collecting nbformat\n",
      "  Obtaining dependency information for nbformat from https://files.pythonhosted.org/packages/a9/82/0340caa499416c78e5d8f5f05947ae4bc3cba53c9f038ab6e9ed964e22f1/nbformat-5.10.4-py3-none-any.whl.metadata\n",
      "  Downloading nbformat-5.10.4-py3-none-any.whl.metadata (3.6 kB)\n",
      "Collecting fastjsonschema>=2.15 (from nbformat)\n",
      "  Obtaining dependency information for fastjsonschema>=2.15 from https://files.pythonhosted.org/packages/9c/b9/79691036d4a8f9857e74d1728b23f34f583b81350a27492edda58d5604e1/fastjsonschema-2.19.1-py3-none-any.whl.metadata\n",
      "  Downloading fastjsonschema-2.19.1-py3-none-any.whl.metadata (2.1 kB)\n",
      "Collecting jsonschema>=2.6 (from nbformat)\n",
      "  Obtaining dependency information for jsonschema>=2.6 from https://files.pythonhosted.org/packages/39/9d/b035d024c62c85f2e2d4806a59ca7b8520307f34e0932fbc8cc75fe7b2d9/jsonschema-4.21.1-py3-none-any.whl.metadata\n",
      "  Downloading jsonschema-4.21.1-py3-none-any.whl.metadata (7.8 kB)\n",
      "Requirement already satisfied: jupyter-core!=5.0.*,>=4.12 in /Users/yanghaoran/Library/Python/3.12/lib/python/site-packages (from nbformat) (5.7.2)\n",
      "Requirement already satisfied: traitlets>=5.1 in /Users/yanghaoran/Library/Python/3.12/lib/python/site-packages (from nbformat) (5.14.2)\n",
      "Collecting attrs>=22.2.0 (from jsonschema>=2.6->nbformat)\n",
      "  Obtaining dependency information for attrs>=22.2.0 from https://files.pythonhosted.org/packages/e0/44/827b2a91a5816512fcaf3cc4ebc465ccd5d598c45cefa6703fcf4a79018f/attrs-23.2.0-py3-none-any.whl.metadata\n",
      "  Downloading attrs-23.2.0-py3-none-any.whl.metadata (9.5 kB)\n",
      "Collecting jsonschema-specifications>=2023.03.6 (from jsonschema>=2.6->nbformat)\n",
      "  Obtaining dependency information for jsonschema-specifications>=2023.03.6 from https://files.pythonhosted.org/packages/ee/07/44bd408781594c4d0a027666ef27fab1e441b109dc3b76b4f836f8fd04fe/jsonschema_specifications-2023.12.1-py3-none-any.whl.metadata\n",
      "  Downloading jsonschema_specifications-2023.12.1-py3-none-any.whl.metadata (3.0 kB)\n",
      "Collecting referencing>=0.28.4 (from jsonschema>=2.6->nbformat)\n",
      "  Obtaining dependency information for referencing>=0.28.4 from https://files.pythonhosted.org/packages/42/8e/ae1de7b12223986e949bdb886c004de7c304b6fa94de5b87c926c1099656/referencing-0.34.0-py3-none-any.whl.metadata\n",
      "  Downloading referencing-0.34.0-py3-none-any.whl.metadata (2.8 kB)\n",
      "Collecting rpds-py>=0.7.1 (from jsonschema>=2.6->nbformat)\n",
      "  Obtaining dependency information for rpds-py>=0.7.1 from https://files.pythonhosted.org/packages/7a/58/9bfc53b266df92f0515e72fd16e4890dc6b56fc3bfc216b3a2a729c866b5/rpds_py-0.18.0-cp312-cp312-macosx_11_0_arm64.whl.metadata\n",
      "  Downloading rpds_py-0.18.0-cp312-cp312-macosx_11_0_arm64.whl.metadata (4.1 kB)\n",
      "Requirement already satisfied: platformdirs>=2.5 in /Users/yanghaoran/Library/Python/3.12/lib/python/site-packages (from jupyter-core!=5.0.*,>=4.12->nbformat) (4.2.0)\n",
      "Downloading nbformat-5.10.4-py3-none-any.whl (78 kB)\n",
      "\u001b[2K   \u001b[90m━━━━━━━━━━━━━━━━━━━━━━━━━━━━━━━━━━━━━━━━\u001b[0m \u001b[32m78.5/78.5 kB\u001b[0m \u001b[31m2.9 MB/s\u001b[0m eta \u001b[36m0:00:00\u001b[0m\n",
      "\u001b[?25hDownloading fastjsonschema-2.19.1-py3-none-any.whl (23 kB)\n",
      "Downloading jsonschema-4.21.1-py3-none-any.whl (85 kB)\n",
      "\u001b[2K   \u001b[90m━━━━━━━━━━━━━━━━━━━━━━━━━━━━━━━━━━━━━━━━\u001b[0m \u001b[32m85.5/85.5 kB\u001b[0m \u001b[31m10.0 MB/s\u001b[0m eta \u001b[36m0:00:00\u001b[0m\n",
      "\u001b[?25hDownloading attrs-23.2.0-py3-none-any.whl (60 kB)\n",
      "\u001b[2K   \u001b[90m━━━━━━━━━━━━━━━━━━━━━━━━━━━━━━━━━━━━━━━━\u001b[0m \u001b[32m60.8/60.8 kB\u001b[0m \u001b[31m8.1 MB/s\u001b[0m eta \u001b[36m0:00:00\u001b[0m\n",
      "\u001b[?25hDownloading jsonschema_specifications-2023.12.1-py3-none-any.whl (18 kB)\n",
      "Downloading referencing-0.34.0-py3-none-any.whl (26 kB)\n",
      "Downloading rpds_py-0.18.0-cp312-cp312-macosx_11_0_arm64.whl (332 kB)\n",
      "\u001b[2K   \u001b[90m━━━━━━━━━━━━━━━━━━━━━━━━━━━━━━━━━━━━━━━━\u001b[0m \u001b[32m333.0/333.0 kB\u001b[0m \u001b[31m11.0 MB/s\u001b[0m eta \u001b[36m0:00:00\u001b[0m\n",
      "\u001b[?25hInstalling collected packages: fastjsonschema, rpds-py, attrs, referencing, jsonschema-specifications, jsonschema, nbformat\n",
      "\u001b[33m  WARNING: The script jsonschema is installed in '/Library/Frameworks/Python.framework/Versions/3.12/bin' which is not on PATH.\n",
      "  Consider adding this directory to PATH or, if you prefer to suppress this warning, use --no-warn-script-location.\u001b[0m\u001b[33m\n",
      "\u001b[0m\u001b[33m  WARNING: The script jupyter-trust is installed in '/Library/Frameworks/Python.framework/Versions/3.12/bin' which is not on PATH.\n",
      "  Consider adding this directory to PATH or, if you prefer to suppress this warning, use --no-warn-script-location.\u001b[0m\u001b[33m\n",
      "\u001b[0mSuccessfully installed attrs-23.2.0 fastjsonschema-2.19.1 jsonschema-4.21.1 jsonschema-specifications-2023.12.1 nbformat-5.10.4 referencing-0.34.0 rpds-py-0.18.0\n",
      "\n",
      "\u001b[1m[\u001b[0m\u001b[34;49mnotice\u001b[0m\u001b[1;39;49m]\u001b[0m\u001b[39;49m A new release of pip is available: \u001b[0m\u001b[31;49m23.2.1\u001b[0m\u001b[39;49m -> \u001b[0m\u001b[32;49m24.0\u001b[0m\n",
      "\u001b[1m[\u001b[0m\u001b[34;49mnotice\u001b[0m\u001b[1;39;49m]\u001b[0m\u001b[39;49m To update, run: \u001b[0m\u001b[32;49mpython3 -m pip install --upgrade pip\u001b[0m\n",
      "Note: you may need to restart the kernel to use updated packages.\n"
     ]
    }
   ],
   "source": [
    "pip install --upgrade nbformat"
   ]
  },
  {
   "cell_type": "code",
   "execution_count": 15,
   "id": "7faf57f0",
   "metadata": {},
   "outputs": [
    {
     "data": {
      "application/vnd.plotly.v1+json": {
       "config": {
        "plotlyServerURL": "https://plot.ly"
       },
       "data": [
        {
         "hovertemplate": "date=%{x}<br>pct_change=%{y}<extra></extra>",
         "legendgroup": "",
         "line": {
          "color": "#636efa",
          "dash": "solid"
         },
         "marker": {
          "symbol": "circle"
         },
         "mode": "lines",
         "name": "",
         "orientation": "v",
         "showlegend": false,
         "type": "scatter",
         "x": [
          "2024-03-18",
          "2024-03-19",
          "2024-03-20",
          "2024-03-21",
          "2024-03-24",
          "2024-03-25",
          "2024-03-26",
          "2024-03-27",
          "2024-03-31",
          "2024-04-01",
          "2024-04-02",
          "2024-04-03",
          "2024-04-04",
          "2024-04-07",
          "2024-04-09",
          "2024-04-10",
          "2024-04-11",
          "2024-04-14",
          "2024-04-15",
          "2024-04-16"
         ],
         "xaxis": "x",
         "y": [
          null,
          0.01470920212895277,
          -0.040857464188247095,
          0.005310169154627342,
          -0.00830039868778909,
          -0.006672515943074608,
          0.021212602099350164,
          -0.01055912444105378,
          -0.008455779008206932,
          -0.0069987793327260794,
          0.004797427008816912,
          -0.004892346608667553,
          0.004501803541807181,
          -0.006663550363830373,
          -0.0039774305790343245,
          0.043270917627970196,
          0.00862665575650401,
          -0.02186349784014141,
          -0.019167279586571384,
          -0.0081473895561337
         ],
         "yaxis": "y"
        }
       ],
       "layout": {
        "legend": {
         "tracegroupgap": 0
        },
        "template": {
         "data": {
          "bar": [
           {
            "error_x": {
             "color": "#2a3f5f"
            },
            "error_y": {
             "color": "#2a3f5f"
            },
            "marker": {
             "line": {
              "color": "#E5ECF6",
              "width": 0.5
             },
             "pattern": {
              "fillmode": "overlay",
              "size": 10,
              "solidity": 0.2
             }
            },
            "type": "bar"
           }
          ],
          "barpolar": [
           {
            "marker": {
             "line": {
              "color": "#E5ECF6",
              "width": 0.5
             },
             "pattern": {
              "fillmode": "overlay",
              "size": 10,
              "solidity": 0.2
             }
            },
            "type": "barpolar"
           }
          ],
          "carpet": [
           {
            "aaxis": {
             "endlinecolor": "#2a3f5f",
             "gridcolor": "white",
             "linecolor": "white",
             "minorgridcolor": "white",
             "startlinecolor": "#2a3f5f"
            },
            "baxis": {
             "endlinecolor": "#2a3f5f",
             "gridcolor": "white",
             "linecolor": "white",
             "minorgridcolor": "white",
             "startlinecolor": "#2a3f5f"
            },
            "type": "carpet"
           }
          ],
          "choropleth": [
           {
            "colorbar": {
             "outlinewidth": 0,
             "ticks": ""
            },
            "type": "choropleth"
           }
          ],
          "contour": [
           {
            "colorbar": {
             "outlinewidth": 0,
             "ticks": ""
            },
            "colorscale": [
             [
              0,
              "#0d0887"
             ],
             [
              0.1111111111111111,
              "#46039f"
             ],
             [
              0.2222222222222222,
              "#7201a8"
             ],
             [
              0.3333333333333333,
              "#9c179e"
             ],
             [
              0.4444444444444444,
              "#bd3786"
             ],
             [
              0.5555555555555556,
              "#d8576b"
             ],
             [
              0.6666666666666666,
              "#ed7953"
             ],
             [
              0.7777777777777778,
              "#fb9f3a"
             ],
             [
              0.8888888888888888,
              "#fdca26"
             ],
             [
              1,
              "#f0f921"
             ]
            ],
            "type": "contour"
           }
          ],
          "contourcarpet": [
           {
            "colorbar": {
             "outlinewidth": 0,
             "ticks": ""
            },
            "type": "contourcarpet"
           }
          ],
          "heatmap": [
           {
            "colorbar": {
             "outlinewidth": 0,
             "ticks": ""
            },
            "colorscale": [
             [
              0,
              "#0d0887"
             ],
             [
              0.1111111111111111,
              "#46039f"
             ],
             [
              0.2222222222222222,
              "#7201a8"
             ],
             [
              0.3333333333333333,
              "#9c179e"
             ],
             [
              0.4444444444444444,
              "#bd3786"
             ],
             [
              0.5555555555555556,
              "#d8576b"
             ],
             [
              0.6666666666666666,
              "#ed7953"
             ],
             [
              0.7777777777777778,
              "#fb9f3a"
             ],
             [
              0.8888888888888888,
              "#fdca26"
             ],
             [
              1,
              "#f0f921"
             ]
            ],
            "type": "heatmap"
           }
          ],
          "heatmapgl": [
           {
            "colorbar": {
             "outlinewidth": 0,
             "ticks": ""
            },
            "colorscale": [
             [
              0,
              "#0d0887"
             ],
             [
              0.1111111111111111,
              "#46039f"
             ],
             [
              0.2222222222222222,
              "#7201a8"
             ],
             [
              0.3333333333333333,
              "#9c179e"
             ],
             [
              0.4444444444444444,
              "#bd3786"
             ],
             [
              0.5555555555555556,
              "#d8576b"
             ],
             [
              0.6666666666666666,
              "#ed7953"
             ],
             [
              0.7777777777777778,
              "#fb9f3a"
             ],
             [
              0.8888888888888888,
              "#fdca26"
             ],
             [
              1,
              "#f0f921"
             ]
            ],
            "type": "heatmapgl"
           }
          ],
          "histogram": [
           {
            "marker": {
             "pattern": {
              "fillmode": "overlay",
              "size": 10,
              "solidity": 0.2
             }
            },
            "type": "histogram"
           }
          ],
          "histogram2d": [
           {
            "colorbar": {
             "outlinewidth": 0,
             "ticks": ""
            },
            "colorscale": [
             [
              0,
              "#0d0887"
             ],
             [
              0.1111111111111111,
              "#46039f"
             ],
             [
              0.2222222222222222,
              "#7201a8"
             ],
             [
              0.3333333333333333,
              "#9c179e"
             ],
             [
              0.4444444444444444,
              "#bd3786"
             ],
             [
              0.5555555555555556,
              "#d8576b"
             ],
             [
              0.6666666666666666,
              "#ed7953"
             ],
             [
              0.7777777777777778,
              "#fb9f3a"
             ],
             [
              0.8888888888888888,
              "#fdca26"
             ],
             [
              1,
              "#f0f921"
             ]
            ],
            "type": "histogram2d"
           }
          ],
          "histogram2dcontour": [
           {
            "colorbar": {
             "outlinewidth": 0,
             "ticks": ""
            },
            "colorscale": [
             [
              0,
              "#0d0887"
             ],
             [
              0.1111111111111111,
              "#46039f"
             ],
             [
              0.2222222222222222,
              "#7201a8"
             ],
             [
              0.3333333333333333,
              "#9c179e"
             ],
             [
              0.4444444444444444,
              "#bd3786"
             ],
             [
              0.5555555555555556,
              "#d8576b"
             ],
             [
              0.6666666666666666,
              "#ed7953"
             ],
             [
              0.7777777777777778,
              "#fb9f3a"
             ],
             [
              0.8888888888888888,
              "#fdca26"
             ],
             [
              1,
              "#f0f921"
             ]
            ],
            "type": "histogram2dcontour"
           }
          ],
          "mesh3d": [
           {
            "colorbar": {
             "outlinewidth": 0,
             "ticks": ""
            },
            "type": "mesh3d"
           }
          ],
          "parcoords": [
           {
            "line": {
             "colorbar": {
              "outlinewidth": 0,
              "ticks": ""
             }
            },
            "type": "parcoords"
           }
          ],
          "pie": [
           {
            "automargin": true,
            "type": "pie"
           }
          ],
          "scatter": [
           {
            "fillpattern": {
             "fillmode": "overlay",
             "size": 10,
             "solidity": 0.2
            },
            "type": "scatter"
           }
          ],
          "scatter3d": [
           {
            "line": {
             "colorbar": {
              "outlinewidth": 0,
              "ticks": ""
             }
            },
            "marker": {
             "colorbar": {
              "outlinewidth": 0,
              "ticks": ""
             }
            },
            "type": "scatter3d"
           }
          ],
          "scattercarpet": [
           {
            "marker": {
             "colorbar": {
              "outlinewidth": 0,
              "ticks": ""
             }
            },
            "type": "scattercarpet"
           }
          ],
          "scattergeo": [
           {
            "marker": {
             "colorbar": {
              "outlinewidth": 0,
              "ticks": ""
             }
            },
            "type": "scattergeo"
           }
          ],
          "scattergl": [
           {
            "marker": {
             "colorbar": {
              "outlinewidth": 0,
              "ticks": ""
             }
            },
            "type": "scattergl"
           }
          ],
          "scattermapbox": [
           {
            "marker": {
             "colorbar": {
              "outlinewidth": 0,
              "ticks": ""
             }
            },
            "type": "scattermapbox"
           }
          ],
          "scatterpolar": [
           {
            "marker": {
             "colorbar": {
              "outlinewidth": 0,
              "ticks": ""
             }
            },
            "type": "scatterpolar"
           }
          ],
          "scatterpolargl": [
           {
            "marker": {
             "colorbar": {
              "outlinewidth": 0,
              "ticks": ""
             }
            },
            "type": "scatterpolargl"
           }
          ],
          "scatterternary": [
           {
            "marker": {
             "colorbar": {
              "outlinewidth": 0,
              "ticks": ""
             }
            },
            "type": "scatterternary"
           }
          ],
          "surface": [
           {
            "colorbar": {
             "outlinewidth": 0,
             "ticks": ""
            },
            "colorscale": [
             [
              0,
              "#0d0887"
             ],
             [
              0.1111111111111111,
              "#46039f"
             ],
             [
              0.2222222222222222,
              "#7201a8"
             ],
             [
              0.3333333333333333,
              "#9c179e"
             ],
             [
              0.4444444444444444,
              "#bd3786"
             ],
             [
              0.5555555555555556,
              "#d8576b"
             ],
             [
              0.6666666666666666,
              "#ed7953"
             ],
             [
              0.7777777777777778,
              "#fb9f3a"
             ],
             [
              0.8888888888888888,
              "#fdca26"
             ],
             [
              1,
              "#f0f921"
             ]
            ],
            "type": "surface"
           }
          ],
          "table": [
           {
            "cells": {
             "fill": {
              "color": "#EBF0F8"
             },
             "line": {
              "color": "white"
             }
            },
            "header": {
             "fill": {
              "color": "#C8D4E3"
             },
             "line": {
              "color": "white"
             }
            },
            "type": "table"
           }
          ]
         },
         "layout": {
          "annotationdefaults": {
           "arrowcolor": "#2a3f5f",
           "arrowhead": 0,
           "arrowwidth": 1
          },
          "autotypenumbers": "strict",
          "coloraxis": {
           "colorbar": {
            "outlinewidth": 0,
            "ticks": ""
           }
          },
          "colorscale": {
           "diverging": [
            [
             0,
             "#8e0152"
            ],
            [
             0.1,
             "#c51b7d"
            ],
            [
             0.2,
             "#de77ae"
            ],
            [
             0.3,
             "#f1b6da"
            ],
            [
             0.4,
             "#fde0ef"
            ],
            [
             0.5,
             "#f7f7f7"
            ],
            [
             0.6,
             "#e6f5d0"
            ],
            [
             0.7,
             "#b8e186"
            ],
            [
             0.8,
             "#7fbc41"
            ],
            [
             0.9,
             "#4d9221"
            ],
            [
             1,
             "#276419"
            ]
           ],
           "sequential": [
            [
             0,
             "#0d0887"
            ],
            [
             0.1111111111111111,
             "#46039f"
            ],
            [
             0.2222222222222222,
             "#7201a8"
            ],
            [
             0.3333333333333333,
             "#9c179e"
            ],
            [
             0.4444444444444444,
             "#bd3786"
            ],
            [
             0.5555555555555556,
             "#d8576b"
            ],
            [
             0.6666666666666666,
             "#ed7953"
            ],
            [
             0.7777777777777778,
             "#fb9f3a"
            ],
            [
             0.8888888888888888,
             "#fdca26"
            ],
            [
             1,
             "#f0f921"
            ]
           ],
           "sequentialminus": [
            [
             0,
             "#0d0887"
            ],
            [
             0.1111111111111111,
             "#46039f"
            ],
            [
             0.2222222222222222,
             "#7201a8"
            ],
            [
             0.3333333333333333,
             "#9c179e"
            ],
            [
             0.4444444444444444,
             "#bd3786"
            ],
            [
             0.5555555555555556,
             "#d8576b"
            ],
            [
             0.6666666666666666,
             "#ed7953"
            ],
            [
             0.7777777777777778,
             "#fb9f3a"
            ],
            [
             0.8888888888888888,
             "#fdca26"
            ],
            [
             1,
             "#f0f921"
            ]
           ]
          },
          "colorway": [
           "#636efa",
           "#EF553B",
           "#00cc96",
           "#ab63fa",
           "#FFA15A",
           "#19d3f3",
           "#FF6692",
           "#B6E880",
           "#FF97FF",
           "#FECB52"
          ],
          "font": {
           "color": "#2a3f5f"
          },
          "geo": {
           "bgcolor": "white",
           "lakecolor": "white",
           "landcolor": "#E5ECF6",
           "showlakes": true,
           "showland": true,
           "subunitcolor": "white"
          },
          "hoverlabel": {
           "align": "left"
          },
          "hovermode": "closest",
          "mapbox": {
           "style": "light"
          },
          "paper_bgcolor": "white",
          "plot_bgcolor": "#E5ECF6",
          "polar": {
           "angularaxis": {
            "gridcolor": "white",
            "linecolor": "white",
            "ticks": ""
           },
           "bgcolor": "#E5ECF6",
           "radialaxis": {
            "gridcolor": "white",
            "linecolor": "white",
            "ticks": ""
           }
          },
          "scene": {
           "xaxis": {
            "backgroundcolor": "#E5ECF6",
            "gridcolor": "white",
            "gridwidth": 2,
            "linecolor": "white",
            "showbackground": true,
            "ticks": "",
            "zerolinecolor": "white"
           },
           "yaxis": {
            "backgroundcolor": "#E5ECF6",
            "gridcolor": "white",
            "gridwidth": 2,
            "linecolor": "white",
            "showbackground": true,
            "ticks": "",
            "zerolinecolor": "white"
           },
           "zaxis": {
            "backgroundcolor": "#E5ECF6",
            "gridcolor": "white",
            "gridwidth": 2,
            "linecolor": "white",
            "showbackground": true,
            "ticks": "",
            "zerolinecolor": "white"
           }
          },
          "shapedefaults": {
           "line": {
            "color": "#2a3f5f"
           }
          },
          "ternary": {
           "aaxis": {
            "gridcolor": "white",
            "linecolor": "white",
            "ticks": ""
           },
           "baxis": {
            "gridcolor": "white",
            "linecolor": "white",
            "ticks": ""
           },
           "bgcolor": "#E5ECF6",
           "caxis": {
            "gridcolor": "white",
            "linecolor": "white",
            "ticks": ""
           }
          },
          "title": {
           "x": 0.05
          },
          "xaxis": {
           "automargin": true,
           "gridcolor": "white",
           "linecolor": "white",
           "ticks": "",
           "title": {
            "standoff": 15
           },
           "zerolinecolor": "white",
           "zerolinewidth": 2
          },
          "yaxis": {
           "automargin": true,
           "gridcolor": "white",
           "linecolor": "white",
           "ticks": "",
           "title": {
            "standoff": 15
           },
           "zerolinecolor": "white",
           "zerolinewidth": 2
          }
         }
        },
        "title": {
         "text": "Daily Percentage Change in AAPL Stock Prices",
         "x": 0.5
        },
        "xaxis": {
         "anchor": "y",
         "domain": [
          0,
          1
         ],
         "title": {
          "text": "Date"
         }
        },
        "yaxis": {
         "anchor": "x",
         "domain": [
          0,
          1
         ],
         "title": {
          "text": "Percentage Change"
         }
        }
       }
      }
     },
     "metadata": {},
     "output_type": "display_data"
    }
   ],
   "source": [
    "import plotly.express as px\n",
    "\n",
    "# Define function to plot the daily percentage change in stock prices using Plotly for interactivity\n",
    "def plot_pct_change_plotly(df, ticker):\n",
    "    fig = px.line(df, x='date', y='pct_change', title=f\"Daily Percentage Change in {ticker} Stock Prices\")\n",
    "    fig.update_layout(xaxis_title='Date', yaxis_title='Percentage Change', title_x=0.5)\n",
    "    fig.show()\n",
    "\n",
    "# Assuming get_data and daily_pct_change functions are defined as above\n",
    "\n",
    "# Example usage with Plotly\n",
    "df = get_data('AAPL') \n",
    "df['pct_change'] = daily_pct_change(df)\n",
    "plot_pct_change_plotly(df, 'AAPL')\n"
   ]
  },
  {
   "cell_type": "code",
   "execution_count": 24,
   "id": "b202b2fe",
   "metadata": {},
   "outputs": [
    {
     "name": "stdout",
     "output_type": "stream",
     "text": [
      "Collecting sklearn\n",
      "  Downloading sklearn-0.0.post12.tar.gz (2.6 kB)\n",
      "  Installing build dependencies ... \u001b[?25ldone\n",
      "\u001b[?25h  Getting requirements to build wheel ... \u001b[?25lerror\n",
      "  \u001b[1;31merror\u001b[0m: \u001b[1msubprocess-exited-with-error\u001b[0m\n",
      "  \n",
      "  \u001b[31m×\u001b[0m \u001b[32mGetting requirements to build wheel\u001b[0m did not run successfully.\n",
      "  \u001b[31m│\u001b[0m exit code: \u001b[1;36m1\u001b[0m\n",
      "  \u001b[31m╰─>\u001b[0m \u001b[31m[15 lines of output]\u001b[0m\n",
      "  \u001b[31m   \u001b[0m The 'sklearn' PyPI package is deprecated, use 'scikit-learn'\n",
      "  \u001b[31m   \u001b[0m rather than 'sklearn' for pip commands.\n",
      "  \u001b[31m   \u001b[0m \n",
      "  \u001b[31m   \u001b[0m Here is how to fix this error in the main use cases:\n",
      "  \u001b[31m   \u001b[0m - use 'pip install scikit-learn' rather than 'pip install sklearn'\n",
      "  \u001b[31m   \u001b[0m - replace 'sklearn' by 'scikit-learn' in your pip requirements files\n",
      "  \u001b[31m   \u001b[0m   (requirements.txt, setup.py, setup.cfg, Pipfile, etc ...)\n",
      "  \u001b[31m   \u001b[0m - if the 'sklearn' package is used by one of your dependencies,\n",
      "  \u001b[31m   \u001b[0m   it would be great if you take some time to track which package uses\n",
      "  \u001b[31m   \u001b[0m   'sklearn' instead of 'scikit-learn' and report it to their issue tracker\n",
      "  \u001b[31m   \u001b[0m - as a last resort, set the environment variable\n",
      "  \u001b[31m   \u001b[0m   SKLEARN_ALLOW_DEPRECATED_SKLEARN_PACKAGE_INSTALL=True to avoid this error\n",
      "  \u001b[31m   \u001b[0m \n",
      "  \u001b[31m   \u001b[0m More information is available at\n",
      "  \u001b[31m   \u001b[0m https://github.com/scikit-learn/sklearn-pypi-package\n",
      "  \u001b[31m   \u001b[0m \u001b[31m[end of output]\u001b[0m\n",
      "  \n",
      "  \u001b[1;35mnote\u001b[0m: This error originates from a subprocess, and is likely not a problem with pip.\n",
      "\u001b[?25h\u001b[1;31merror\u001b[0m: \u001b[1msubprocess-exited-with-error\u001b[0m\n",
      "\n",
      "\u001b[31m×\u001b[0m \u001b[32mGetting requirements to build wheel\u001b[0m did not run successfully.\n",
      "\u001b[31m│\u001b[0m exit code: \u001b[1;36m1\u001b[0m\n",
      "\u001b[31m╰─>\u001b[0m See above for output.\n",
      "\n",
      "\u001b[1;35mnote\u001b[0m: This error originates from a subprocess, and is likely not a problem with pip.\n",
      "\n",
      "\u001b[1m[\u001b[0m\u001b[34;49mnotice\u001b[0m\u001b[1;39;49m]\u001b[0m\u001b[39;49m A new release of pip is available: \u001b[0m\u001b[31;49m23.2.1\u001b[0m\u001b[39;49m -> \u001b[0m\u001b[32;49m24.0\u001b[0m\n",
      "\u001b[1m[\u001b[0m\u001b[34;49mnotice\u001b[0m\u001b[1;39;49m]\u001b[0m\u001b[39;49m To update, run: \u001b[0m\u001b[32;49mpython3 -m pip install --upgrade pip\u001b[0m\n",
      "Note: you may need to restart the kernel to use updated packages.\n"
     ]
    }
   ],
   "source": [
    "pip install sklearn"
   ]
  },
  {
   "cell_type": "code",
   "execution_count": 25,
   "id": "a3ab1ffb",
   "metadata": {},
   "outputs": [
    {
     "name": "stdout",
     "output_type": "stream",
     "text": [
      "Collecting scikit-learn\n",
      "  Obtaining dependency information for scikit-learn from https://files.pythonhosted.org/packages/fc/f1/7028da970a41c542a0f3a2234f78040c820dae87ed7e949cec9f585f2b1a/scikit_learn-1.4.2-cp312-cp312-macosx_12_0_arm64.whl.metadata\n",
      "  Downloading scikit_learn-1.4.2-cp312-cp312-macosx_12_0_arm64.whl.metadata (11 kB)\n",
      "Requirement already satisfied: numpy>=1.19.5 in /Library/Frameworks/Python.framework/Versions/3.12/lib/python3.12/site-packages (from scikit-learn) (1.26.4)\n",
      "Collecting scipy>=1.6.0 (from scikit-learn)\n",
      "  Obtaining dependency information for scipy>=1.6.0 from https://files.pythonhosted.org/packages/a1/72/8d2b7815d754e52b31ebcacf93111581f6948d96910a1a665b8cefc5cfe1/scipy-1.13.0-cp312-cp312-macosx_12_0_arm64.whl.metadata\n",
      "  Downloading scipy-1.13.0-cp312-cp312-macosx_12_0_arm64.whl.metadata (60 kB)\n",
      "\u001b[2K     \u001b[90m━━━━━━━━━━━━━━━━━━━━━━━━━━━━━━━━━━━━━━━━\u001b[0m \u001b[32m60.6/60.6 kB\u001b[0m \u001b[31m2.5 MB/s\u001b[0m eta \u001b[36m0:00:00\u001b[0m\n",
      "\u001b[?25hCollecting joblib>=1.2.0 (from scikit-learn)\n",
      "  Obtaining dependency information for joblib>=1.2.0 from https://files.pythonhosted.org/packages/ae/e2/4dea6313ef2b38442fccbbaf4017e50a6c3c8a50e8ee9b512783e5c90409/joblib-1.4.0-py3-none-any.whl.metadata\n",
      "  Downloading joblib-1.4.0-py3-none-any.whl.metadata (5.4 kB)\n",
      "Collecting threadpoolctl>=2.0.0 (from scikit-learn)\n",
      "  Obtaining dependency information for threadpoolctl>=2.0.0 from https://files.pythonhosted.org/packages/1e/84/ccd9b08653022b7785b6e3ee070ffb2825841e0dc119be22f0840b2b35cb/threadpoolctl-3.4.0-py3-none-any.whl.metadata\n",
      "  Downloading threadpoolctl-3.4.0-py3-none-any.whl.metadata (13 kB)\n",
      "Downloading scikit_learn-1.4.2-cp312-cp312-macosx_12_0_arm64.whl (10.5 MB)\n",
      "\u001b[2K   \u001b[90m━━━━━━━━━━━━━━━━━━━━━━━━━━━━━━━━━━━━━━━━\u001b[0m \u001b[32m10.5/10.5 MB\u001b[0m \u001b[31m39.1 MB/s\u001b[0m eta \u001b[36m0:00:00\u001b[0m00:01\u001b[0m0:01\u001b[0m\n",
      "\u001b[?25hDownloading joblib-1.4.0-py3-none-any.whl (301 kB)\n",
      "\u001b[2K   \u001b[90m━━━━━━━━━━━━━━━━━━━━━━━━━━━━━━━━━━━━━━━━\u001b[0m \u001b[32m301.2/301.2 kB\u001b[0m \u001b[31m35.4 MB/s\u001b[0m eta \u001b[36m0:00:00\u001b[0m\n",
      "\u001b[?25hDownloading scipy-1.13.0-cp312-cp312-macosx_12_0_arm64.whl (30.4 MB)\n",
      "\u001b[2K   \u001b[90m━━━━━━━━━━━━━━━━━━━━━━━━━━━━━━━━━━━━━━━━\u001b[0m \u001b[32m30.4/30.4 MB\u001b[0m \u001b[31m30.3 MB/s\u001b[0m eta \u001b[36m0:00:00\u001b[0m00:01\u001b[0m00:01\u001b[0m\n",
      "\u001b[?25hDownloading threadpoolctl-3.4.0-py3-none-any.whl (17 kB)\n",
      "Installing collected packages: threadpoolctl, scipy, joblib, scikit-learn\n",
      "Successfully installed joblib-1.4.0 scikit-learn-1.4.2 scipy-1.13.0 threadpoolctl-3.4.0\n",
      "\n",
      "\u001b[1m[\u001b[0m\u001b[34;49mnotice\u001b[0m\u001b[1;39;49m]\u001b[0m\u001b[39;49m A new release of pip is available: \u001b[0m\u001b[31;49m23.2.1\u001b[0m\u001b[39;49m -> \u001b[0m\u001b[32;49m24.0\u001b[0m\n",
      "\u001b[1m[\u001b[0m\u001b[34;49mnotice\u001b[0m\u001b[1;39;49m]\u001b[0m\u001b[39;49m To update, run: \u001b[0m\u001b[32;49mpython3 -m pip install --upgrade pip\u001b[0m\n",
      "Note: you may need to restart the kernel to use updated packages.\n"
     ]
    }
   ],
   "source": [
    "pip install -U scikit-learn\n"
   ]
  },
  {
   "cell_type": "code",
   "execution_count": 16,
   "id": "f856043a",
   "metadata": {},
   "outputs": [
    {
     "name": "stdout",
     "output_type": "stream",
     "text": [
      "Accuracy of decision tree model for AAPL: 50.00%\n"
     ]
    }
   ],
   "source": [
    "\n",
    "\n",
    "import pandas as pd\n",
    "import numpy as np\n",
    "\n",
    "\n",
    "from sklearn.tree import DecisionTreeClassifier\n",
    "from sklearn.model_selection import train_test_split\n",
    "from sklearn.metrics import accuracy_score\n",
    "\n",
    "# Define function to prepare data for classification model\n",
    "def prepare_data(df):\n",
    "    X = df[['open', 'high', 'low', 'close', 'volume', 'adj_close']].values[:-1]\n",
    "    y = np.where(df['adj_close'].shift(-1) > df['adj_close'], 1, 0)[:-1]\n",
    "    return X, y\n",
    "\n",
    "# Define function to train and test a decision tree classification model\n",
    "def train_test_model(df):\n",
    "    X, y = prepare_data(df)\n",
    "    X_train, X_test, y_train, y_test = train_test_split(X, y, test_size=0.3, random_state=42)\n",
    "    clf = DecisionTreeClassifier(max_depth=3, random_state=42)\n",
    "    clf.fit(X_train, y_train)\n",
    "    y_pred = clf.predict(X_test)\n",
    "    return accuracy_score(y_test, y_pred)\n",
    "\n",
    "# Example usage\n",
    "df = get_data('AAPL')\n",
    "accuracy = train_test_model(df)\n",
    "print(\"Accuracy of decision tree model for AAPL: {:.2f}%\".format(accuracy * 100))"
   ]
  },
  {
   "cell_type": "code",
   "execution_count": 17,
   "id": "aac8dd1f",
   "metadata": {},
   "outputs": [
    {
     "data": {
      "image/png": "[encoded data removed]",
      "text/plain": [
       "<Figure size 640x480 with 1 Axes>"
      ]
     },
     "metadata": {},
     "output_type": "display_data"
    }
   ],
   "source": [
    "import numpy as np\n",
    "import matplotlib.pyplot as plt\n",
    "from sklearn.metrics import roc_curve, auc\n",
    "\n",
    "# Assuming you have true labels and predicted probabilities\n",
    "true_labels = np.array([0, 0, 1, 1, 0, 1])\n",
    "predicted_probs = np.array([0.2, 0.3, 0.6, 0.8, 0.4, 0.7])\n",
    "\n",
    "# Compute the false positive rate (FPR), true positive rate (TPR), and thresholds\n",
    "fpr, tpr, thresholds = roc_curve(true_labels, predicted_probs)\n",
    "\n",
    "# Compute the AUC (Area Under the Curve)\n",
    "auc_score = auc(fpr, tpr)\n",
    "\n",
    "# Plot the AOC curve\n",
    "plt.plot(fpr, tpr, label='AUC = {:.2f}'.format(auc_score))\n",
    "plt.plot([0, 1], [0, 1], 'k--')  # Diagonal line representing random guessing\n",
    "plt.xlabel('False Positive Rate')\n",
    "plt.ylabel('True Positive Rate')\n",
    "plt.title('Receiver Operating Characteristic (ROC) Curve')\n",
    "plt.legend(loc='lower right')\n",
    "plt.show()\n"
   ]
  },
  {
   "cell_type": "code",
   "execution_count": null,
   "id": "74e7c231",
   "metadata": {},
   "outputs": [],
   "source": [
    "############################################################################################################\n",
    "##################################   Flask   #############################################################"
   ]
  },
  {
   "cell_type": "code",
   "execution_count": 28,
   "id": "100cc7ee",
   "metadata": {},
   "outputs": [
    {
     "name": "stdout",
     "output_type": "stream",
     "text": [
      "Collecting Flask\n",
      "  Obtaining dependency information for Flask from https://files.pythonhosted.org/packages/61/80/ffe1da13ad9300f87c93af113edd0638c75138c42a0994becfacac078c06/flask-3.0.3-py3-none-any.whl.metadata\n",
      "  Downloading flask-3.0.3-py3-none-any.whl.metadata (3.2 kB)\n",
      "Collecting Werkzeug>=3.0.0 (from Flask)\n",
      "  Obtaining dependency information for Werkzeug>=3.0.0 from https://files.pythonhosted.org/packages/e3/23/c9843d7550092ae7ad380611c238f44afef66f58f76c1dab7dcf313e4339/werkzeug-3.0.2-py3-none-any.whl.metadata\n",
      "  Downloading werkzeug-3.0.2-py3-none-any.whl.metadata (4.1 kB)\n",
      "Collecting Jinja2>=3.1.2 (from Flask)\n",
      "  Obtaining dependency information for Jinja2>=3.1.2 from https://files.pythonhosted.org/packages/30/6d/6de6be2d02603ab56e72997708809e8a5b0fbfee080735109b40a3564843/Jinja2-3.1.3-py3-none-any.whl.metadata\n",
      "  Downloading Jinja2-3.1.3-py3-none-any.whl.metadata (3.3 kB)\n",
      "Collecting itsdangerous>=2.1.2 (from Flask)\n",
      "  Obtaining dependency information for itsdangerous>=2.1.2 from https://files.pythonhosted.org/packages/04/96/92447566d16df59b2a776c0fb82dbc4d9e07cd95062562af01e408583fc4/itsdangerous-2.2.0-py3-none-any.whl.metadata\n",
      "  Downloading itsdangerous-2.2.0-py3-none-any.whl.metadata (1.9 kB)\n",
      "Collecting click>=8.1.3 (from Flask)\n",
      "  Obtaining dependency information for click>=8.1.3 from https://files.pythonhosted.org/packages/00/2e/d53fa4befbf2cfa713304affc7ca780ce4fc1fd8710527771b58311a3229/click-8.1.7-py3-none-any.whl.metadata\n",
      "  Downloading click-8.1.7-py3-none-any.whl.metadata (3.0 kB)\n",
      "Collecting blinker>=1.6.2 (from Flask)\n",
      "  Obtaining dependency information for blinker>=1.6.2 from https://files.pythonhosted.org/packages/fa/2a/7f3714cbc6356a0efec525ce7a0613d581072ed6eb53eb7b9754f33db807/blinker-1.7.0-py3-none-any.whl.metadata\n",
      "  Downloading blinker-1.7.0-py3-none-any.whl.metadata (1.9 kB)\n",
      "Collecting MarkupSafe>=2.0 (from Jinja2>=3.1.2->Flask)\n",
      "  Obtaining dependency information for MarkupSafe>=2.0 from https://files.pythonhosted.org/packages/53/bd/583bf3e4c8d6a321938c13f49d44024dbe5ed63e0a7ba127e454a66da974/MarkupSafe-2.1.5-cp312-cp312-macosx_10_9_universal2.whl.metadata\n",
      "  Downloading MarkupSafe-2.1.5-cp312-cp312-macosx_10_9_universal2.whl.metadata (3.0 kB)\n",
      "Downloading flask-3.0.3-py3-none-any.whl (101 kB)\n",
      "\u001b[2K   \u001b[90m━━━━━━━━━━━━━━━━━━━━━━━━━━━━━━━━━━━━━━━━\u001b[0m \u001b[32m101.7/101.7 kB\u001b[0m \u001b[31m3.4 MB/s\u001b[0m eta \u001b[36m0:00:00\u001b[0m\n",
      "\u001b[?25hDownloading blinker-1.7.0-py3-none-any.whl (13 kB)\n",
      "Downloading click-8.1.7-py3-none-any.whl (97 kB)\n",
      "\u001b[2K   \u001b[90m━━━━━━━━━━━━━━━━━━━━━━━━━━━━━━━━━━━━━━━━\u001b[0m \u001b[32m97.9/97.9 kB\u001b[0m \u001b[31m12.7 MB/s\u001b[0m eta \u001b[36m0:00:00\u001b[0m\n",
      "\u001b[?25hDownloading itsdangerous-2.2.0-py3-none-any.whl (16 kB)\n",
      "Downloading Jinja2-3.1.3-py3-none-any.whl (133 kB)\n",
      "\u001b[2K   \u001b[90m━━━━━━━━━━━━━━━━━━━━━━━━━━━━━━━━━━━━━━━━\u001b[0m \u001b[32m133.2/133.2 kB\u001b[0m \u001b[31m20.2 MB/s\u001b[0m eta \u001b[36m0:00:00\u001b[0m\n",
      "\u001b[?25hDownloading werkzeug-3.0.2-py3-none-any.whl (226 kB)\n",
      "\u001b[2K   \u001b[90m━━━━━━━━━━━━━━━━━━━━━━━━━━━━━━━━━━━━━━━━\u001b[0m \u001b[32m226.8/226.8 kB\u001b[0m \u001b[31m17.3 MB/s\u001b[0m eta \u001b[36m0:00:00\u001b[0m\n",
      "\u001b[?25hDownloading MarkupSafe-2.1.5-cp312-cp312-macosx_10_9_universal2.whl (18 kB)\n",
      "Installing collected packages: MarkupSafe, itsdangerous, click, blinker, Werkzeug, Jinja2, Flask\n",
      "\u001b[33m  WARNING: The script flask is installed in '/Library/Frameworks/Python.framework/Versions/3.12/bin' which is not on PATH.\n",
      "  Consider adding this directory to PATH or, if you prefer to suppress this warning, use --no-warn-script-location.\u001b[0m\u001b[33m\n",
      "\u001b[0mSuccessfully installed Flask-3.0.3 Jinja2-3.1.3 MarkupSafe-2.1.5 Werkzeug-3.0.2 blinker-1.7.0 click-8.1.7 itsdangerous-2.2.0\n",
      "\n",
      "\u001b[1m[\u001b[0m\u001b[34;49mnotice\u001b[0m\u001b[1;39;49m]\u001b[0m\u001b[39;49m A new release of pip is available: \u001b[0m\u001b[31;49m23.2.1\u001b[0m\u001b[39;49m -> \u001b[0m\u001b[32;49m24.0\u001b[0m\n",
      "\u001b[1m[\u001b[0m\u001b[34;49mnotice\u001b[0m\u001b[1;39;49m]\u001b[0m\u001b[39;49m To update, run: \u001b[0m\u001b[32;49mpython3 -m pip install --upgrade pip\u001b[0m\n",
      "Note: you may need to restart the kernel to use updated packages.\n"
     ]
    }
   ],
   "source": [
    "pip install Flask"
   ]
  },
  {
   "cell_type": "code",
   "execution_count": 30,
   "id": "79720d8b",
   "metadata": {},
   "outputs": [],
   "source": [
    "from flask import Flask, render_template\n",
    "import psycopg2\n",
    "from sklearn.linear_model import LinearRegression\n",
    "import matplotlib.pyplot as plt\n",
    "import io\n",
    "import base64"
   ]
  },
  {
   "cell_type": "code",
   "execution_count": 31,
   "id": "416807b8",
   "metadata": {},
   "outputs": [],
   "source": [
    "app = Flask(__name__)\n",
    "\n",
    "\n",
    "# Set up PostgreSQL connection\n",
    "pg_conn = psycopg2.connect(\n",
    "    host=\"localhost\",\n",
    "    port=5432,\n",
    "    database=\"5400Final\",\n",
    "    user=\"postgres\",\n",
    "    password=\"123\"\n",
    ")"
   ]
  },
  {
   "cell_type": "code",
   "execution_count": 32,
   "id": "f5342161",
   "metadata": {},
   "outputs": [],
   "source": [
    "@app.route(\"/\")\n",
    "def home():\n",
    "    return render_template(\"home.html\")"
   ]
  },
  {
   "cell_type": "code",
   "execution_count": 34,
   "id": "62fe461c",
   "metadata": {},
   "outputs": [
    {
     "ename": "AssertionError",
     "evalue": "View function mapping is overwriting an existing endpoint function: results",
     "output_type": "error",
     "traceback": [
      "\u001b[0;31m---------------------------------------------------------------------------\u001b[0m",
      "\u001b[0;31mAssertionError\u001b[0m                            Traceback (most recent call last)",
      "Cell \u001b[0;32mIn[34], line 2\u001b[0m\n\u001b[1;32m      1\u001b[0m \u001b[38;5;66;03m###  need to edit based on 1 month data here.\u001b[39;00m\n\u001b[0;32m----> 2\u001b[0m \u001b[38;5;129;43m@app\u001b[39;49m\u001b[38;5;241;43m.\u001b[39;49m\u001b[43mroute\u001b[49m\u001b[43m(\u001b[49m\u001b[38;5;124;43m\"\u001b[39;49m\u001b[38;5;124;43m/results/<ticker>\u001b[39;49m\u001b[38;5;124;43m\"\u001b[39;49m\u001b[43m)\u001b[49m\n\u001b[1;32m      3\u001b[0m \u001b[38;5;28;43;01mdef\u001b[39;49;00m\u001b[43m \u001b[49m\u001b[38;5;21;43mresults\u001b[39;49m\u001b[43m(\u001b[49m\u001b[43mticker\u001b[49m\u001b[43m)\u001b[49m\u001b[43m:\u001b[49m\n\u001b[1;32m      4\u001b[0m \u001b[43m    \u001b[49m\u001b[38;5;66;43;03m# Retrieve data from PostgreSQL\u001b[39;49;00m\n\u001b[1;32m      5\u001b[0m \u001b[43m    \u001b[49m\u001b[38;5;28;43;01mwith\u001b[39;49;00m\u001b[43m \u001b[49m\u001b[43mpg_conn\u001b[49m\u001b[38;5;241;43m.\u001b[39;49m\u001b[43mcursor\u001b[49m\u001b[43m(\u001b[49m\u001b[43m)\u001b[49m\u001b[43m \u001b[49m\u001b[38;5;28;43;01mas\u001b[39;49;00m\u001b[43m \u001b[49m\u001b[43mpg_cur\u001b[49m\u001b[43m:\u001b[49m\n\u001b[1;32m      6\u001b[0m \u001b[43m        \u001b[49m\u001b[43mpg_cur\u001b[49m\u001b[38;5;241;43m.\u001b[39;49m\u001b[43mexecute\u001b[49m\u001b[43m(\u001b[49m\u001b[38;5;124;43m\"\"\"\u001b[39;49m\n\u001b[1;32m      7\u001b[0m \u001b[38;5;124;43m            SELECT date, open, high, low, close, volume, adj_close\u001b[39;49m\n\u001b[1;32m      8\u001b[0m \u001b[38;5;124;43m            FROM \u001b[39;49m\u001b[38;5;132;43;01m{table_name}\u001b[39;49;00m\n\u001b[1;32m      9\u001b[0m \u001b[38;5;124;43m        \u001b[39;49m\u001b[38;5;124;43m\"\"\"\u001b[39;49m\u001b[38;5;241;43m.\u001b[39;49m\u001b[43mformat\u001b[49m\u001b[43m(\u001b[49m\u001b[43mtable_name\u001b[49m\u001b[38;5;241;43m=\u001b[39;49m\u001b[43mticker\u001b[49m\u001b[38;5;241;43m.\u001b[39;49m\u001b[43mupper\u001b[49m\u001b[43m(\u001b[49m\u001b[43m)\u001b[49m\u001b[43m)\u001b[49m\u001b[43m)\u001b[49m\n",
      "File \u001b[0;32m/Library/Frameworks/Python.framework/Versions/3.12/lib/python3.12/site-packages/flask/sansio/scaffold.py:362\u001b[0m, in \u001b[0;36mScaffold.route.<locals>.decorator\u001b[0;34m(f)\u001b[0m\n\u001b[1;32m    360\u001b[0m \u001b[38;5;28;01mdef\u001b[39;00m \u001b[38;5;21mdecorator\u001b[39m(f: T_route) \u001b[38;5;241m-\u001b[39m\u001b[38;5;241m>\u001b[39m T_route:\n\u001b[1;32m    361\u001b[0m     endpoint \u001b[38;5;241m=\u001b[39m options\u001b[38;5;241m.\u001b[39mpop(\u001b[38;5;124m\"\u001b[39m\u001b[38;5;124mendpoint\u001b[39m\u001b[38;5;124m\"\u001b[39m, \u001b[38;5;28;01mNone\u001b[39;00m)\n\u001b[0;32m--> 362\u001b[0m     \u001b[38;5;28;43mself\u001b[39;49m\u001b[38;5;241;43m.\u001b[39;49m\u001b[43madd_url_rule\u001b[49m\u001b[43m(\u001b[49m\u001b[43mrule\u001b[49m\u001b[43m,\u001b[49m\u001b[43m \u001b[49m\u001b[43mendpoint\u001b[49m\u001b[43m,\u001b[49m\u001b[43m \u001b[49m\u001b[43mf\u001b[49m\u001b[43m,\u001b[49m\u001b[43m \u001b[49m\u001b[38;5;241;43m*\u001b[39;49m\u001b[38;5;241;43m*\u001b[39;49m\u001b[43moptions\u001b[49m\u001b[43m)\u001b[49m\n\u001b[1;32m    363\u001b[0m     \u001b[38;5;28;01mreturn\u001b[39;00m f\n",
      "File \u001b[0;32m/Library/Frameworks/Python.framework/Versions/3.12/lib/python3.12/site-packages/flask/sansio/scaffold.py:47\u001b[0m, in \u001b[0;36msetupmethod.<locals>.wrapper_func\u001b[0;34m(self, *args, **kwargs)\u001b[0m\n\u001b[1;32m     45\u001b[0m \u001b[38;5;28;01mdef\u001b[39;00m \u001b[38;5;21mwrapper_func\u001b[39m(\u001b[38;5;28mself\u001b[39m: Scaffold, \u001b[38;5;241m*\u001b[39margs: t\u001b[38;5;241m.\u001b[39mAny, \u001b[38;5;241m*\u001b[39m\u001b[38;5;241m*\u001b[39mkwargs: t\u001b[38;5;241m.\u001b[39mAny) \u001b[38;5;241m-\u001b[39m\u001b[38;5;241m>\u001b[39m t\u001b[38;5;241m.\u001b[39mAny:\n\u001b[1;32m     46\u001b[0m     \u001b[38;5;28mself\u001b[39m\u001b[38;5;241m.\u001b[39m_check_setup_finished(f_name)\n\u001b[0;32m---> 47\u001b[0m     \u001b[38;5;28;01mreturn\u001b[39;00m \u001b[43mf\u001b[49m\u001b[43m(\u001b[49m\u001b[38;5;28;43mself\u001b[39;49m\u001b[43m,\u001b[49m\u001b[43m \u001b[49m\u001b[38;5;241;43m*\u001b[39;49m\u001b[43margs\u001b[49m\u001b[43m,\u001b[49m\u001b[43m \u001b[49m\u001b[38;5;241;43m*\u001b[39;49m\u001b[38;5;241;43m*\u001b[39;49m\u001b[43mkwargs\u001b[49m\u001b[43m)\u001b[49m\n",
      "File \u001b[0;32m/Library/Frameworks/Python.framework/Versions/3.12/lib/python3.12/site-packages/flask/sansio/app.py:657\u001b[0m, in \u001b[0;36mApp.add_url_rule\u001b[0;34m(self, rule, endpoint, view_func, provide_automatic_options, **options)\u001b[0m\n\u001b[1;32m    655\u001b[0m old_func \u001b[38;5;241m=\u001b[39m \u001b[38;5;28mself\u001b[39m\u001b[38;5;241m.\u001b[39mview_functions\u001b[38;5;241m.\u001b[39mget(endpoint)\n\u001b[1;32m    656\u001b[0m \u001b[38;5;28;01mif\u001b[39;00m old_func \u001b[38;5;129;01mis\u001b[39;00m \u001b[38;5;129;01mnot\u001b[39;00m \u001b[38;5;28;01mNone\u001b[39;00m \u001b[38;5;129;01mand\u001b[39;00m old_func \u001b[38;5;241m!=\u001b[39m view_func:\n\u001b[0;32m--> 657\u001b[0m     \u001b[38;5;28;01mraise\u001b[39;00m \u001b[38;5;167;01mAssertionError\u001b[39;00m(\n\u001b[1;32m    658\u001b[0m         \u001b[38;5;124m\"\u001b[39m\u001b[38;5;124mView function mapping is overwriting an existing\u001b[39m\u001b[38;5;124m\"\u001b[39m\n\u001b[1;32m    659\u001b[0m         \u001b[38;5;124mf\u001b[39m\u001b[38;5;124m\"\u001b[39m\u001b[38;5;124m endpoint function: \u001b[39m\u001b[38;5;132;01m{\u001b[39;00mendpoint\u001b[38;5;132;01m}\u001b[39;00m\u001b[38;5;124m\"\u001b[39m\n\u001b[1;32m    660\u001b[0m     )\n\u001b[1;32m    661\u001b[0m \u001b[38;5;28mself\u001b[39m\u001b[38;5;241m.\u001b[39mview_functions[endpoint] \u001b[38;5;241m=\u001b[39m view_func\n",
      "\u001b[0;31mAssertionError\u001b[0m: View function mapping is overwriting an existing endpoint function: results"
     ]
    }
   ],
   "source": [
    "###  need to edit based on 1 month data here.\n",
    "@app.route(\"/results/<ticker>\")\n",
    "def results(ticker):\n",
    "    # Retrieve data from PostgreSQL\n",
    "    with pg_conn.cursor() as pg_cur:\n",
    "        pg_cur.execute(\"\"\"\n",
    "            SELECT date, open, high, low, close, volume, adj_close\n",
    "            FROM {table_name}\n",
    "        \"\"\".format(table_name=ticker.upper()))\n",
    "        pg_data = pg_cur.fetchall()\n",
    "\n",
    "    # Perform analysis\n",
    "    max_price = max(pg_data, key=lambda x: x[2])\n",
    "    min_price = min(pg_data, key=lambda x: x[3])\n",
    "    avg_price = sum([row[4] for row in pg_data]) / len(pg_data)\n",
    "\n",
    "    # Prepare data for plotting\n",
    "    x = [i for i in range(len(pg_data))]\n",
    "    y = [row[4] for row in pg_data]\n",
    "\n",
    "    # Train linear regression model\n",
    "    lin_reg = LinearRegression()\n",
    "    lin_reg.fit([[i] for i in range(len(pg_data))], y)\n",
    "\n",
    "    # Predict future stock prices using linear regression\n",
    "    future_x = [[i] for i in range(len(pg_data), len(pg_data) + 500)]\n",
    "    future_y = lin_reg.predict(future_x)\n",
    "\n",
    "    # Plot predicted stock prices\n",
    "    fig = plt.figure()\n",
    "    plt.plot(x, y)\n",
    "    plt.plot(future_x, future_y)\n",
    "    plt.xlabel(\"Time (days)\")\n",
    "    plt.ylabel(\"Closing Price ($)\")\n",
    "    plt.title(\"Predicted Stock Price Trend for {}\".format(ticker.upper()))\n",
    "    plt.legend([\"Historical Data\", \"Predicted Data\"])\n",
    "    \n",
    "    # Convert plot to base64 for displaying in HTML\n",
    "    buffer = io.BytesIO()\n",
    "    plt.savefig(buffer, format='png')\n",
    "    buffer.seek(0)\n",
    "    image_base64 = base64.b64encode(buffer.getvalue()).decode()\n",
    "    plt.close()\n",
    "\n",
    "    # Render results page with analysis results and predicted stock price chart\n",
    "    return render_template(\"results.html\", ticker=ticker.upper(), max_price=max_price, min_price=min_price,\n",
    "                           avg_price=avg_price, image_base64=image_base64)"
   ]
  },
  {
   "cell_type": "code",
   "execution_count": 28,
   "id": "80706a08",
   "metadata": {},
   "outputs": [
    {
     "name": "stdout",
     "output_type": "stream",
     "text": [
      " * Serving Flask app '__main__'\n",
      " * Debug mode: on\n"
     ]
    },
    {
     "name": "stderr",
     "output_type": "stream",
     "text": [
      "\u001b[31m\u001b[1mWARNING: This is a development server. Do not use it in a production deployment. Use a production WSGI server instead.\u001b[0m\n",
      " * Running on http://127.0.0.1:5001\n",
      "\u001b[33mPress CTRL+C to quit\u001b[0m\n",
      "127.0.0.1 - - [18/Apr/2024 15:44:53] \"GET / HTTP/1.1\" 200 -\n"
     ]
    }
   ],
   "source": [
    "if __name__ == \"__main__\":\n",
    "    app.run(debug=True, use_reloader=False, port = 5001)"
   ]
  },
  {
   "cell_type": "code",
   "execution_count": 42,
   "id": "aee68f9d",
   "metadata": {},
   "outputs": [
    {
     "name": "stdout",
     "output_type": "stream",
     "text": [
      " * Serving Flask app '__main__'\n",
      " * Debug mode: on\n"
     ]
    },
    {
     "name": "stderr",
     "output_type": "stream",
     "text": [
      "\u001b[31m\u001b[1mWARNING: This is a development server. Do not use it in a production deployment. Use a production WSGI server instead.\u001b[0m\n",
      " * Running on http://127.0.0.1:5001\n",
      "\u001b[33mPress CTRL+C to quit\u001b[0m\n",
      "127.0.0.1 - - [18/Apr/2024 19:55:18] \"GET / HTTP/1.1\" 200 -\n",
      "127.0.0.1 - - [18/Apr/2024 19:55:22] \"\u001b[32mPOST / HTTP/1.1\u001b[0m\" 302 -\n",
      "127.0.0.1 - - [18/Apr/2024 19:55:22] \"GET /results/AAPL HTTP/1.1\" 200 -\n",
      "127.0.0.1 - - [18/Apr/2024 20:01:01] \"GET / HTTP/1.1\" 200 -\n",
      "127.0.0.1 - - [18/Apr/2024 20:01:03] \"\u001b[32mPOST / HTTP/1.1\u001b[0m\" 302 -\n",
      "127.0.0.1 - - [18/Apr/2024 20:01:03] \"GET /results/AAPL HTTP/1.1\" 200 -\n",
      "127.0.0.1 - - [18/Apr/2024 20:01:30] \"GET / HTTP/1.1\" 200 -\n",
      "127.0.0.1 - - [18/Apr/2024 20:01:33] \"\u001b[32mPOST / HTTP/1.1\u001b[0m\" 302 -\n",
      "127.0.0.1 - - [18/Apr/2024 20:01:33] \"GET /results/AAPL HTTP/1.1\" 200 -\n"
     ]
    }
   ],
   "source": [
    "from flask import Flask, render_template, request, redirect, url_for\n",
    "import psycopg2\n",
    "from datetime import datetime, timedelta\n",
    "import base64\n",
    "import io\n",
    "from matplotlib import pyplot as plt\n",
    "from sklearn.linear_model import LinearRegression\n",
    "\n",
    "app = Flask(__name__)\n",
    "\n",
    "# Set up PostgreSQL connection\n",
    "pg_conn = psycopg2.connect(\n",
    "    host=\"localhost\",\n",
    "    port=5432,\n",
    "    database=\"5400Final\",\n",
    "    user=\"postgres\",\n",
    "    password=\"123\"\n",
    ")\n",
    "\n",
    "@app.route(\"/\", methods=['GET', 'POST'])\n",
    "def home():\n",
    "    if request.method == 'POST':\n",
    "        ticker = request.form['ticker']\n",
    "        return redirect(url_for('results', ticker=ticker))\n",
    "    return render_template(\"home.html\")\n",
    "\n",
    "@app.route(\"/results/<ticker>\")\n",
    "def results(ticker):\n",
    "    # Calculate the date 30 days ago from today\n",
    "    date_30_days_ago = datetime.now() - timedelta(days=30)\n",
    "\n",
    "    # Retrieve data from PostgreSQL for the last 30 days\n",
    "    with pg_conn.cursor() as pg_cur:\n",
    "        query = \"\"\"\n",
    "            SELECT date, open, high, low, close, volume, adj_close\n",
    "            FROM {table_name}\n",
    "            WHERE date >= %s\n",
    "        \"\"\".format(table_name=ticker.upper())\n",
    "        pg_cur.execute(query, [date_30_days_ago])\n",
    "        pg_data = pg_cur.fetchall()\n",
    "\n",
    "    if not pg_data:\n",
    "        return \"No data available for this ticker in the last 30 days.\"\n",
    "\n",
    "    # Perform analysis\n",
    "    max_price = max(pg_data, key=lambda x: x[2])\n",
    "    min_price = min(pg_data, key=lambda x: x[3])\n",
    "    avg_price = sum([row[4] for row in pg_data]) / len(pg_data)\n",
    "\n",
    "    # Prepare data for plotting\n",
    "    x = [i for i, _ in enumerate(pg_data)]\n",
    "    y = [row[4] for row in pg_data]\n",
    "\n",
    "    # Train linear regression model\n",
    "    lin_reg = LinearRegression()\n",
    "    lin_reg.fit([[i] for i in x], y)\n",
    "\n",
    "    # Predict future stock prices using linear regression\n",
    "    future_x = [[i] for i in range(len(pg_data), len(pg_data) + 30)]\n",
    "    future_y = lin_reg.predict(future_x)\n",
    "\n",
    "    # Plot predicted stock prices\n",
    "    fig = plt.figure()\n",
    "    plt.plot(x, y, label=\"Historical Data\")\n",
    "    plt.plot(range(len(pg_data), len(pg_data) + 30), future_y, label=\"Predicted Data\")\n",
    "    plt.xlabel(\"Time (days)\")\n",
    "    plt.ylabel(\"Closing Price ($)\")\n",
    "    plt.title(\"Predicted Stock Price Trend for {}\".format(ticker.upper()))\n",
    "    plt.legend()\n",
    "    \n",
    "    # Convert plot to base64 for displaying in HTML\n",
    "    buffer = io.BytesIO()\n",
    "    plt.savefig(buffer, format='png')\n",
    "    buffer.seek(0)\n",
    "    image_base64 = base64.b64encode(buffer.getvalue()).decode()\n",
    "    plt.close()\n",
    "\n",
    "    # Render results page with analysis results and predicted stock price chart\n",
    "    return render_template(\"results.html\", ticker=ticker.upper(), max_price=max_price, min_price=min_price,\n",
    "                           avg_price=avg_price, image_base64=image_base64)\n",
    "\n",
    "if __name__ == \"__main__\":\n",
    "    app.run(debug=True, use_reloader=False, port=5001)\n"
   ]
  }
 ],
 "metadata": {
  "kernelspec": {
   "display_name": "Python 3 (ipykernel)",
   "language": "python",
   "name": "python3"
  },
  "language_info": {
   "codemirror_mode": {
    "name": "ipython",
    "version": 3
   },
   "file_extension": ".py",
   "mimetype": "text/x-python",
   "name": "python",
   "nbconvert_exporter": "python",
   "pygments_lexer": "ipython3",
   "version": "3.12.1"
  }
 },
 "nbformat": 4,
 "nbformat_minor": 5
}
